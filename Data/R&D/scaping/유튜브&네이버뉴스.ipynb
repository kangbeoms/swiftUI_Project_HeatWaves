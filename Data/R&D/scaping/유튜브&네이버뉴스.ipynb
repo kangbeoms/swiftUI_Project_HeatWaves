{
 "cells": [
  {
   "cell_type": "code",
   "execution_count": 45,
   "metadata": {},
   "outputs": [],
   "source": [
    "from selenium import webdriver\n",
    "from selenium.webdriver.chrome.service import Service\n",
    "from webdriver_manager.chrome import ChromeDriverManager\n",
    "from selenium.webdriver.common.by import By\n",
    "from bs4 import BeautifulSoup\n",
    "import urllib.request as req\n",
    "import folium\n",
    "import pandas as pd\n",
    "import urllib.parse\n",
    "import time\n",
    "import json\n",
    "from selenium.common.exceptions import NoSuchElementException\n",
    "import numpy as np\n",
    "\n",
    "# 파이썬 서버 구동\n",
    "from flask import Flask, jsonify, render_template, request,current_app\n",
    "# json으로 데이터 송신\n",
    "import json\n",
    "import joblib\n",
    "# sql 접근\n",
    "import pymysql\n",
    "# 파이썬 맵 사용\n",
    "import folium\n",
    "# json파일 불러오기\n",
    "from joblib import dump, load\n",
    "#회귀모델 스케일링\n",
    "from sklearn.discriminant_analysis import StandardScaler\n",
    "# os 명령어 사용\n",
    "import os\n",
    "# 폴리움 지도 옵션 \n",
    "from folium.plugins import MousePosition\n",
    "from folium.plugins import Search\n",
    "from folium.plugins import FloatImage\n",
    "\n",
    "# html 파일 실행\n",
    "from jinja2 import Environment, FileSystemLoader\n",
    "\n",
    "# 데이터프레임 생성\n",
    "import pandas as pd\n",
    "\n",
    "\n",
    "from selenium import webdriver\n",
    "from selenium.webdriver.chrome.service import Service\n",
    "from webdriver_manager.chrome import ChromeDriverManager\n",
    "from selenium.webdriver.common.by import By\n",
    "from bs4 import BeautifulSoup\n",
    "from selenium.webdriver.common.action_chains import ActionChains\n",
    "\n",
    "import urllib.request as req\n",
    "# 크롤링 시 시간 텀 주기\n",
    "import time"
   ]
  },
  {
   "cell_type": "code",
   "execution_count": 3,
   "metadata": {},
   "outputs": [],
   "source": [
    "url = \"https://www.youtube.com/results?search_query=%ED%95%B4%EC%88%98%EB%A9%B4\"\n",
    "url2 = \"https://news.naver.com/breakingnews/section/103/248\"\n",
    "\n",
    "res = req.urlopen(url)\n",
    "res2 = req.urlopen(url2)\n",
    "soup2 = BeautifulSoup(res2, \"html.parser\")\n",
    "soup = BeautifulSoup(res, \"html.parser\")"
   ]
  },
  {
   "cell_type": "code",
   "execution_count": null,
   "metadata": {},
   "outputs": [],
   "source": [
    "#newsct > div.section_latest > div > div.section_latest_article._CONTENT_LIST._PERSIST_META > div:nth-child(1)"
   ]
  },
  {
   "cell_type": "code",
   "execution_count": null,
   "metadata": {},
   "outputs": [],
   "source": [
    "#newsct > div.section_latest > div > div.section_latest_article._CONTENT_LIST._PERSIST_META > div:nth-child(1) > ul > li:nth-child(1) > div > div > div.sa_text > a"
   ]
  },
  {
   "cell_type": "code",
   "execution_count": null,
   "metadata": {},
   "outputs": [],
   "source": [
    "# //*[@id=\"newsct\"]/div[2]/div/div[1]/div[1]/ul/li[2]/div/div/div[2]/a"
   ]
  },
  {
   "cell_type": "code",
   "execution_count": 10,
   "metadata": {},
   "outputs": [
    {
     "data": {
      "text/plain": [
       "[]"
      ]
     },
     "execution_count": 10,
     "metadata": {},
     "output_type": "execute_result"
    }
   ],
   "source": [
    "soup.select('div > div.section_latest_article._CONTENT_LIST._PERSIST_META > div:nth-child(1) > ul > li:nth-child(1) > div > div > div.sa_text > a')"
   ]
  },
  {
   "cell_type": "code",
   "execution_count": 11,
   "metadata": {},
   "outputs": [],
   "source": [
    "chrome_options = webdriver.ChromeOptions()\n",
    "driver = webdriver.Chrome(service=Service(ChromeDriverManager().install()), options=chrome_options)\n",
    "driver.get(\"https://news.naver.com/breakingnews/section/103/248\")"
   ]
  },
  {
   "cell_type": "code",
   "execution_count": 48,
   "metadata": {},
   "outputs": [],
   "source": [
    "gu_list_raw = driver.find_element(By.XPATH, '//*[@id=\"newsct\"]/div[2]/div/div[1]/div[1]/ul/li[2]/div/div/div[2]/a') \n",
    "gu_list_raw2 = driver.find_element(By.XPATH, '//*[@id=\"newsct\"]/div[2]/div/div[1]/div[1]/ul/li[1]/div/div/div[2]/a') \n",
    "gu_list_raw4 = driver.find_element(By.XPATH, '//*[@id=\"newsct\"]/div[2]/div/div[1]/div[1]/ul') \n",
    "gu_list_raw5 = driver.find_element(By.XPATH, '//*[@id=\"newsct\"]/div[2]/div/div[1]/div[1]/ul/li[2]/div/div/div[1]/div/a/img') "
   ]
  },
  {
   "cell_type": "code",
   "execution_count": 49,
   "metadata": {},
   "outputs": [
    {
     "name": "stdout",
     "output_type": "stream",
     "text": [
      "동영상뉴스\n",
      "재생시간\n",
      "01:33\n",
      "[날씨톡톡] 서울 낮 기온 33도…올 들어 가장 더워\n",
      "금요일의 날씨톡톡입니다. 계속되는 폭염에 지치지 않으셨는지 걱정입니다. 여기서 조금만 더 시원지면 참 좋을 텐데요. SNS부터 살펴보겠습니다. \"날씨가 너무 더워요! 태양을 피하고 다니세요!!\"라고 하셨고요. 또 다\n",
      "연합뉴스TV\n",
      "6분전\n",
      "때 이른 폭염에 대구·경북 온열질환자 벌써 19명\n",
      "닷새째 폭염 특보가 이어지고 있는 대구·경북에서 19명의 온열질환자가 발생했다. 14일 질병관리청 온열질환 응급실감시체계에 따르면 지난달 20일부터 이달 12일까지 발생한 온열질환자는 경북 18명, 대구 1명으로 잠\n",
      "뉴시스\n",
      "14분전\n",
      "대구·경북 '낮 최고 35도' 폭염 계속···토요일 곳곳에 소나기\n",
      "대구와 경북 지역은 6월 14일 금요일도 불볕더위가 이어지겠습니다. 대구와 구미, 영천 등 경북 11개 시군에는 폭염주의보가 계속 발효 중입니다. 금요일 낮 최고 기온은 대구 34도, 의성·경주 35도 등 27~35\n",
      "대구MBC\n",
      "17분전\n",
      "기상학 교수 \"올여름 한국 40도 넘는 폭염…8월 이후 폭우 더 걱정\"\n",
      "박태훈 선임기자 = 이번 여름은 유난히 태풍이 많고 폭우, 폭염에 시달릴 것이라는 경고가 나왔다. 기상학자인 김해동 계명대 지구환경학과 교수는 14일 CBS라디오 '김현정의 뉴스쇼'에서 올여름 기상 전망에 대해 \"요\n",
      "뉴스1\n",
      "18분전\n",
      "파주시, 장마철 앞두고 가축 매몰지 안전 점검…'이상 없음'\n",
      "경기 파주시는 장마철을 앞두고 가축 매물지 안전 실태를 점검한 결과, 이상이 없는 것으로 확인됐다고 14일 밝혔다. 점검은 최근 2년간 '아프리카돼지열병(ASF)'과 '럼피스킨(LSD)'으로 가축이 매몰 처분된 4곳\n",
      "연합뉴스\n",
      "22분전\n",
      "땡볕 날씨에 독해진 오존…올해 서울 오존주의보 '역대 최다'\n",
      "고온에 땡볕 더위가 지속되면서 올해 서울 지역 오존주의보가 역대 가장 많이 발령된 것으로 나타났다. 14일 서울시에 따르면 올해 서울 지역에 내려진 오존주의보는 지난 4월19일 첫 발령된 데 이어 이달 12일까지 약\n",
      "뉴시스\n",
      "36분전\n"
     ]
    }
   ],
   "source": [
    "print(gu_list_raw4.text)"
   ]
  },
  {
   "cell_type": "code",
   "execution_count": 65,
   "metadata": {},
   "outputs": [],
   "source": [
    "newslist = np.array(gu_list_raw4)"
   ]
  },
  {
   "cell_type": "code",
   "execution_count": 67,
   "metadata": {},
   "outputs": [
    {
     "ename": "TypeError",
     "evalue": "len() of unsized object",
     "output_type": "error",
     "traceback": [
      "\u001b[0;31m---------------------------------------------------------------------------\u001b[0m",
      "\u001b[0;31mTypeError\u001b[0m                                 Traceback (most recent call last)",
      "Cell \u001b[0;32mIn[67], line 1\u001b[0m\n\u001b[0;32m----> 1\u001b[0m \u001b[38;5;28;01mfor\u001b[39;00m i \u001b[38;5;129;01min\u001b[39;00m \u001b[38;5;28mrange\u001b[39m(\u001b[38;5;241m3\u001b[39m,\u001b[38;5;28mlen\u001b[39m(newslist)):\n\u001b[1;32m      2\u001b[0m     \u001b[38;5;28mprint\u001b[39m(gu_list_raw4\u001b[38;5;241m.\u001b[39mtext[i])\n",
      "\u001b[0;31mTypeError\u001b[0m: len() of unsized object"
     ]
    }
   ],
   "source": [
    "for i in range(3,len(newslist)):\n",
    "    print(gu_list_raw4.text[i])"
   ]
  },
  {
   "cell_type": "code",
   "execution_count": 46,
   "metadata": {},
   "outputs": [
    {
     "name": "stdout",
     "output_type": "stream",
     "text": [
      "Image src: https://mimgnews.pstatic.net/image/origin/003/2024/06/14/12606631.jpg?type=nf220_150\n"
     ]
    }
   ],
   "source": [
    "img_src = gu_list_raw5.get_attribute('src')\n",
    "print(\"Image src:\", img_src)"
   ]
  },
  {
   "cell_type": "code",
   "execution_count": 41,
   "metadata": {},
   "outputs": [],
   "source": [
    "href_value"
   ]
  },
  {
   "cell_type": "code",
   "execution_count": 34,
   "metadata": {},
   "outputs": [
    {
     "data": {
      "text/plain": [
       "'https://n.news.naver.com/mnews/article/422/0000665138'"
      ]
     },
     "execution_count": 34,
     "metadata": {},
     "output_type": "execute_result"
    }
   ],
   "source": [
    "href_value"
   ]
  },
  {
   "cell_type": "code",
   "execution_count": null,
   "metadata": {},
   "outputs": [],
   "source": [
    "//*[@id=\"newsct\"]/div[2]/div/div[1]/div[1]/ul/li[2]/div/div/div[1]/div/a/img"
   ]
  },
  {
   "cell_type": "code",
   "execution_count": 17,
   "metadata": {},
   "outputs": [
    {
     "data": {
      "text/plain": [
       "\"대구·경북 '낮 최고 35도' 폭염 계속···토요일 곳곳에 소나기\""
      ]
     },
     "execution_count": 17,
     "metadata": {},
     "output_type": "execute_result"
    }
   ],
   "source": [
    "gu_list_raw.text"
   ]
  },
  {
   "cell_type": "code",
   "execution_count": 19,
   "metadata": {},
   "outputs": [
    {
     "data": {
      "text/plain": [
       "'때 이른 폭염에 대구·경북 온열질환자 벌써 19명'"
      ]
     },
     "execution_count": 19,
     "metadata": {},
     "output_type": "execute_result"
    }
   ],
   "source": [
    "gu_list_raw2.text"
   ]
  },
  {
   "cell_type": "code",
   "execution_count": null,
   "metadata": {},
   "outputs": [],
   "source": [
    " data = pd.DataFrame({'title' : title,'publish' : publish, 'image' : image , 'link' : link})"
   ]
  },
  {
   "cell_type": "code",
   "execution_count": null,
   "metadata": {},
   "outputs": [],
   "source": [
    "//*[@id=\"newsct\"]/div[2]/div/div[1]/div[1]/ul\n",
    "//*[@id=\"newsct\"]/div[2]/div/div[1]/div[1]/ul/li[2]/div/div/div[1]/div/a"
   ]
  },
  {
   "cell_type": "code",
   "execution_count": null,
   "metadata": {},
   "outputs": [],
   "source": [
    "//*[@id=\"newsct\"]/div[2]/div/div[1]/div[1]/ul/li[1]/div/div/div[2]/a/strong\n",
    "\n",
    "//*[@id=\"newsct\"]/div[2]/div/div[1]/div[1]/ul/li[2]/div/div/div[2]/a/strong\n",
    "\n",
    "//*[@id=\"newsct\"]/div[2]/div/div[1]/div[1]/ul/li[3]/div/div/div[2]/a/strong"
   ]
  },
  {
   "cell_type": "code",
   "execution_count": 121,
   "metadata": {},
   "outputs": [],
   "source": [
    "aaa = driver.find_element(By.XPATH, '//*[@id=\"newsct\"]/div[2]/div/div[1]/div[1]/ul/li[1]/div/div/div[2]/a/strong') \n",
    "ddd = driver.find_element(By.XPATH, '//*[@id=\"newsct\"]/div[2]/div/div[1]/div[1]/ul/li[1]/div/div/div[2]/div[2]/div[1]/div[1]') "
   ]
  },
  {
   "cell_type": "code",
   "execution_count": 117,
   "metadata": {},
   "outputs": [
    {
     "data": {
      "text/plain": [
       "'남양주 등 경기동부 7곳 오후 1시 기해 오존주의보 발령'"
      ]
     },
     "execution_count": 117,
     "metadata": {},
     "output_type": "execute_result"
    }
   ],
   "source": [
    "aaa.text"
   ]
  },
  {
   "cell_type": "code",
   "execution_count": 119,
   "metadata": {},
   "outputs": [
    {
     "data": {
      "text/plain": [
       "'뉴스1'"
      ]
     },
     "execution_count": 119,
     "metadata": {},
     "output_type": "execute_result"
    }
   ],
   "source": [
    "ddd.text"
   ]
  },
  {
   "cell_type": "code",
   "execution_count": 114,
   "metadata": {},
   "outputs": [],
   "source": [
    "chrome_options = webdriver.ChromeOptions()\n",
    "driver = webdriver.Chrome(service=Service(ChromeDriverManager().install()), options=chrome_options)\n",
    "driver.get(\"https://news.naver.com/breakingnews/section/103/248\")"
   ]
  },
  {
   "cell_type": "code",
   "execution_count": 128,
   "metadata": {},
   "outputs": [],
   "source": [
    "title = []\n",
    "publish = []\n",
    "link = []\n",
    "image = []\n",
    "\n",
    "for num in range(1,5):\n",
    "\n",
    "    newstitle = driver.find_element(By.XPATH, f'//*[@id=\"newsct\"]/div[2]/div/div[1]/div[1]/ul/li[{num}]/div/div/div[2]/a/strong') \n",
    "    newspublish = driver.find_element(By.XPATH, f'//*[@id=\"newsct\"]/div[2]/div/div[1]/div[1]/ul/li[{num}]/div/div/div[2]/div[2]/div[1]/div[1]') \n",
    "    newsimage = driver.find_element(By.XPATH, f'//*[@id=\"newsct\"]/div[2]/div/div[1]/div[1]/ul/li[{num}]/div/div/div[1]/div/a/img') \n",
    "    newslink = driver.find_element(By.XPATH, f'//*[@id=\"newsct\"]/div[2]/div/div[1]/div[1]/ul/li[{num}]/div/div/div[1]/div/a') \n",
    "    \n",
    "    title.append(newstitle.text)\n",
    "    publish.append(newspublish.text)\n",
    "    image.append( newsimage.get_attribute('src'))\n",
    "    link.append(newslink.get_attribute('href'))\n",
    "\n",
    "data = pd.DataFrame({'title' : title,'publish' : publish, 'image' : image , 'link' : link})\n",
    "\n",
    "\n"
   ]
  },
  {
   "cell_type": "code",
   "execution_count": 130,
   "metadata": {},
   "outputs": [
    {
     "name": "stdout",
     "output_type": "stream",
     "text": [
      "['시원한 분수터널', \"'시원한 폭포와 함께'\", \"'시원하게'\", \"'시원한 폭포와 함께'\"]\n",
      "['뉴시스', '뉴시스', '뉴시스', '뉴시스']\n",
      "['https://mimgnews.pstatic.net/image/origin/003/2024/06/14/12606876.jpg?type=nf220_150', 'https://mimgnews.pstatic.net/image/origin/003/2024/06/14/12606875.jpg?type=nf220_150', 'https://mimgnews.pstatic.net/image/origin/003/2024/06/14/12606874.jpg?type=nf220_150', 'https://mimgnews.pstatic.net/image/origin/003/2024/06/14/12606873.jpg?type=nf220_150']\n",
      "['https://n.news.naver.com/mnews/article/003/0012606876', 'https://n.news.naver.com/mnews/article/003/0012606875', 'https://n.news.naver.com/mnews/article/003/0012606874', 'https://n.news.naver.com/mnews/article/003/0012606873']\n"
     ]
    }
   ],
   "source": [
    "print(title)\n",
    "print(publish)\n",
    "print(image)\n",
    "print(link)"
   ]
  },
  {
   "cell_type": "code",
   "execution_count": 132,
   "metadata": {},
   "outputs": [],
   "source": [
    "data = pd.DataFrame({'title' : title,'publish' : publish, 'image' : image , 'link' : link})"
   ]
  },
  {
   "cell_type": "code",
   "execution_count": 133,
   "metadata": {},
   "outputs": [
    {
     "data": {
      "text/html": [
       "<div>\n",
       "<style scoped>\n",
       "    .dataframe tbody tr th:only-of-type {\n",
       "        vertical-align: middle;\n",
       "    }\n",
       "\n",
       "    .dataframe tbody tr th {\n",
       "        vertical-align: top;\n",
       "    }\n",
       "\n",
       "    .dataframe thead th {\n",
       "        text-align: right;\n",
       "    }\n",
       "</style>\n",
       "<table border=\"1\" class=\"dataframe\">\n",
       "  <thead>\n",
       "    <tr style=\"text-align: right;\">\n",
       "      <th></th>\n",
       "      <th>title</th>\n",
       "      <th>publish</th>\n",
       "      <th>image</th>\n",
       "      <th>link</th>\n",
       "    </tr>\n",
       "  </thead>\n",
       "  <tbody>\n",
       "    <tr>\n",
       "      <th>0</th>\n",
       "      <td>시원한 분수터널</td>\n",
       "      <td>뉴시스</td>\n",
       "      <td>https://mimgnews.pstatic.net/image/origin/003/...</td>\n",
       "      <td>https://n.news.naver.com/mnews/article/003/001...</td>\n",
       "    </tr>\n",
       "    <tr>\n",
       "      <th>1</th>\n",
       "      <td>'시원한 폭포와 함께'</td>\n",
       "      <td>뉴시스</td>\n",
       "      <td>https://mimgnews.pstatic.net/image/origin/003/...</td>\n",
       "      <td>https://n.news.naver.com/mnews/article/003/001...</td>\n",
       "    </tr>\n",
       "    <tr>\n",
       "      <th>2</th>\n",
       "      <td>'시원하게'</td>\n",
       "      <td>뉴시스</td>\n",
       "      <td>https://mimgnews.pstatic.net/image/origin/003/...</td>\n",
       "      <td>https://n.news.naver.com/mnews/article/003/001...</td>\n",
       "    </tr>\n",
       "    <tr>\n",
       "      <th>3</th>\n",
       "      <td>'시원한 폭포와 함께'</td>\n",
       "      <td>뉴시스</td>\n",
       "      <td>https://mimgnews.pstatic.net/image/origin/003/...</td>\n",
       "      <td>https://n.news.naver.com/mnews/article/003/001...</td>\n",
       "    </tr>\n",
       "  </tbody>\n",
       "</table>\n",
       "</div>"
      ],
      "text/plain": [
       "          title publish                                              image  \\\n",
       "0      시원한 분수터널     뉴시스  https://mimgnews.pstatic.net/image/origin/003/...   \n",
       "1  '시원한 폭포와 함께'     뉴시스  https://mimgnews.pstatic.net/image/origin/003/...   \n",
       "2        '시원하게'     뉴시스  https://mimgnews.pstatic.net/image/origin/003/...   \n",
       "3  '시원한 폭포와 함께'     뉴시스  https://mimgnews.pstatic.net/image/origin/003/...   \n",
       "\n",
       "                                                link  \n",
       "0  https://n.news.naver.com/mnews/article/003/001...  \n",
       "1  https://n.news.naver.com/mnews/article/003/001...  \n",
       "2  https://n.news.naver.com/mnews/article/003/001...  \n",
       "3  https://n.news.naver.com/mnews/article/003/001...  "
      ]
     },
     "execution_count": 133,
     "metadata": {},
     "output_type": "execute_result"
    }
   ],
   "source": [
    "data"
   ]
  },
  {
   "cell_type": "code",
   "execution_count": 85,
   "metadata": {},
   "outputs": [
    {
     "data": {
      "text/plain": [
       "'https://mimgnews.pstatic.net/image/origin/052/2024/06/14/2048160.jpg?type=nf220_150'"
      ]
     },
     "execution_count": 85,
     "metadata": {},
     "output_type": "execute_result"
    }
   ],
   "source": [
    "newsimage.get_attribute('src')"
   ]
  },
  {
   "cell_type": "code",
   "execution_count": 90,
   "metadata": {},
   "outputs": [
    {
     "data": {
      "text/plain": [
       "str"
      ]
     },
     "execution_count": 90,
     "metadata": {},
     "output_type": "execute_result"
    }
   ],
   "source": [
    "type(newslist.text)"
   ]
  },
  {
   "cell_type": "code",
   "execution_count": 93,
   "metadata": {},
   "outputs": [],
   "source": [
    "news = newslist.text.split(\"\\n\")"
   ]
  },
  {
   "cell_type": "code",
   "execution_count": 102,
   "metadata": {},
   "outputs": [
    {
     "data": {
      "text/plain": [
       "['행안부, 여름철 재해예방사업장 점검 나서…충남 예산·천안 방문',\n",
       " '행정안전부는 이한경 재난안전관리본부장이 15일 충청남도 예산군과 천안시에 위치한 재해예방사업장을 점검한다고 14일 밝혔다. 이번 점검은 여름철 집중호우 등에 대비해 재해예방사업장의 안전사고 예방을 위한 현장 조치 사',\n",
       " '뉴스1',\n",
       " '7분전',\n",
       " '동영상뉴스',\n",
       " '재생시간',\n",
       " '02:45',\n",
       " '[날씨] 오늘 불볕더위 절정, 서울 33℃...주말 더위 식히는 단비',\n",
       " '오늘은 서울 낮 기온이 33도까지 치솟으며 불볕더위가 절정에 달하겠습니다. 하지만 주말에는 길게 이어진 더위를 식힐 단비가 내릴 전망인데요 취재기자 연결해 더위 현황과 주말 날씨 알아보겠습니다. 정혜윤 기자! 더위가',\n",
       " 'YTN',\n",
       " '15분전',\n",
       " '전북 낮 기온 최고 33도.. 저녁부터 주말에 비',\n",
       " '낮 기온이 최고 33도까지 오르고, 곳에 따라 소나기가 내리겠습니다. 전북은 오늘 오전 11시 기준 이미 무주와 정읍·고창 등에서 29도를 넘어선 가운데, 오후로 접어들면 도내 전역에서 기온이 30도~33도로 치솟는',\n",
       " '전주MBC',\n",
       " '15분전',\n",
       " '동영상뉴스',\n",
       " '재생시간',\n",
       " '01:33',\n",
       " '[날씨톡톡] 서울 낮 기온 33도…올 들어 가장 더워',\n",
       " '금요일의 날씨톡톡입니다. 계속되는 폭염에 지치지 않으셨는지 걱정입니다. 여기서 조금만 더 시원지면 참 좋을 텐데요. SNS부터 살펴보겠습니다. \"날씨가 너무 더워요! 태양을 피하고 다니세요!!\"라고 하셨고요. 또 다',\n",
       " '연합뉴스TV',\n",
       " '22분전',\n",
       " '때 이른 폭염에 대구·경북 온열질환자 벌써 19명',\n",
       " '닷새째 폭염 특보가 이어지고 있는 대구·경북에서 19명의 온열질환자가 발생했다. 14일 질병관리청 온열질환 응급실감시체계에 따르면 지난달 20일부터 이달 12일까지 발생한 온열질환자는 경북 18명, 대구 1명으로 잠',\n",
       " '뉴시스',\n",
       " '30분전',\n",
       " \"대구·경북 '낮 최고 35도' 폭염 계속···토요일 곳곳에 소나기\",\n",
       " '대구와 경북 지역은 6월 14일 금요일도 불볕더위가 이어지겠습니다. 대구와 구미, 영천 등 경북 11개 시군에는 폭염주의보가 계속 발효 중입니다. 금요일 낮 최고 기온은 대구 34도, 의성·경주 35도 등 27~35',\n",
       " '대구MBC',\n",
       " '33분전']"
      ]
     },
     "execution_count": 102,
     "metadata": {},
     "output_type": "execute_result"
    }
   ],
   "source": [
    "news"
   ]
  },
  {
   "cell_type": "code",
   "execution_count": 110,
   "metadata": {},
   "outputs": [
    {
     "data": {
      "text/plain": [
       "30"
      ]
     },
     "execution_count": 110,
     "metadata": {},
     "output_type": "execute_result"
    }
   ],
   "source": [
    "len(news)"
   ]
  },
  {
   "cell_type": "code",
   "execution_count": 112,
   "metadata": {},
   "outputs": [
    {
     "ename": "AttributeError",
     "evalue": "'list' object has no attribute 'split'",
     "output_type": "error",
     "traceback": [
      "\u001b[0;31m---------------------------------------------------------------------------\u001b[0m",
      "\u001b[0;31mAttributeError\u001b[0m                            Traceback (most recent call last)",
      "Cell \u001b[0;32mIn[112], line 1\u001b[0m\n\u001b[0;32m----> 1\u001b[0m news\u001b[38;5;241m.\u001b[39msplit(\u001b[38;5;124m\"\u001b[39m\u001b[38;5;124m재생시간\u001b[39m\u001b[38;5;124m\"\u001b[39m)\n",
      "\u001b[0;31mAttributeError\u001b[0m: 'list' object has no attribute 'split'"
     ]
    }
   ],
   "source": []
  },
  {
   "cell_type": "code",
   "execution_count": 113,
   "metadata": {},
   "outputs": [
    {
     "name": "stdout",
     "output_type": "stream",
     "text": [
      "행안부, 여름철 재해예방사업장 점검 나서…충남 예산·천안 방문\n",
      "행정안전부는 이한경 재난안전관리본부장이 15일 충청남도 예산군과 천안시에 위치한 재해예방사업장을 점검한다고 14일 밝혔다. 이번 점검은 여름철 집중호우 등에 대비해 재해예방사업장의 안전사고 예방을 위한 현장 조치 사\n",
      "뉴스1\n",
      "7분전\n",
      "동영상뉴스\n",
      "재생시간\n",
      "02:45\n",
      "[날씨] 오늘 불볕더위 절정, 서울 33℃...주말 더위 식히는 단비\n",
      "오늘은 서울 낮 기온이 33도까지 치솟으며 불볕더위가 절정에 달하겠습니다. 하지만 주말에는 길게 이어진 더위를 식힐 단비가 내릴 전망인데요 취재기자 연결해 더위 현황과 주말 날씨 알아보겠습니다. 정혜윤 기자! 더위가\n",
      "YTN\n",
      "15분전\n",
      "전북 낮 기온 최고 33도.. 저녁부터 주말에 비\n",
      "낮 기온이 최고 33도까지 오르고, 곳에 따라 소나기가 내리겠습니다. 전북은 오늘 오전 11시 기준 이미 무주와 정읍·고창 등에서 29도를 넘어선 가운데, 오후로 접어들면 도내 전역에서 기온이 30도~33도로 치솟는\n",
      "전주MBC\n",
      "15분전\n",
      "동영상뉴스\n",
      "재생시간\n",
      "01:33\n",
      "[날씨톡톡] 서울 낮 기온 33도…올 들어 가장 더워\n",
      "금요일의 날씨톡톡입니다. 계속되는 폭염에 지치지 않으셨는지 걱정입니다. 여기서 조금만 더 시원지면 참 좋을 텐데요. SNS부터 살펴보겠습니다. \"날씨가 너무 더워요! 태양을 피하고 다니세요!!\"라고 하셨고요. 또 다\n",
      "연합뉴스TV\n",
      "22분전\n",
      "때 이른 폭염에 대구·경북 온열질환자 벌써 19명\n",
      "닷새째 폭염 특보가 이어지고 있는 대구·경북에서 19명의 온열질환자가 발생했다. 14일 질병관리청 온열질환 응급실감시체계에 따르면 지난달 20일부터 이달 12일까지 발생한 온열질환자는 경북 18명, 대구 1명으로 잠\n",
      "뉴시스\n",
      "30분전\n",
      "대구·경북 '낮 최고 35도' 폭염 계속···토요일 곳곳에 소나기\n",
      "대구와 경북 지역은 6월 14일 금요일도 불볕더위가 이어지겠습니다. 대구와 구미, 영천 등 경북 11개 시군에는 폭염주의보가 계속 발효 중입니다. 금요일 낮 최고 기온은 대구 34도, 의성·경주 35도 등 27~35\n",
      "대구MBC\n",
      "33분전\n"
     ]
    }
   ],
   "source": [
    "title = []\n",
    "main = []\n",
    "cor = []\n",
    "for i in (news):\n",
    "    print(i)\n",
    "    if i in \"재생시간\":\n",
    "\n",
    "3,4,5,6"
   ]
  },
  {
   "cell_type": "code",
   "execution_count": null,
   "metadata": {},
   "outputs": [],
   "source": []
  },
  {
   "cell_type": "code",
   "execution_count": 82,
   "metadata": {},
   "outputs": [
    {
     "data": {
      "text/plain": [
       "<selenium.webdriver.remote.webelement.WebElement (session=\"f0b70c24c975244c87d08f8ec65cd0a4\", element=\"f.6DEF7A2D975EC1E150753A8BEDAD3BFA.d.81EA6A0B0CFFF1C57C42FB0D8FB244E3.e.63\")>"
      ]
     },
     "execution_count": 82,
     "metadata": {},
     "output_type": "execute_result"
    }
   ],
   "source": [
    "newsimage"
   ]
  },
  {
   "cell_type": "code",
   "execution_count": 84,
   "metadata": {},
   "outputs": [
    {
     "data": {
      "text/plain": [
       "'https://n.news.naver.com/mnews/article/052/0002048160'"
      ]
     },
     "execution_count": 84,
     "metadata": {},
     "output_type": "execute_result"
    }
   ],
   "source": [
    "newslink.get_attribute('href')"
   ]
  },
  {
   "cell_type": "code",
   "execution_count": 134,
   "metadata": {},
   "outputs": [],
   "source": [
    "\n",
    "# 파이썬 서버 구동\n",
    "from flask import Flask, jsonify, render_template, request,current_app\n",
    "# json으로 데이터 송신\n",
    "import json\n",
    "import joblib\n",
    "# sql 접근\n",
    "import pymysql\n",
    "# 파이썬 맵 사용\n",
    "import folium\n",
    "# json파일 불러오기\n",
    "from joblib import dump, load\n",
    "#회귀모델 스케일링\n",
    "from sklearn.discriminant_analysis import StandardScaler\n",
    "# os 명령어 사용\n",
    "import os\n",
    "# 폴리움 지도 옵션 \n",
    "from folium.plugins import MousePosition\n",
    "from folium.plugins import Search\n",
    "from folium.plugins import FloatImage\n",
    "\n",
    "# html 파일 실행\n",
    "from jinja2 import Environment, FileSystemLoader\n",
    "\n",
    "# 데이터프레임 생성\n",
    "import pandas as pd\n",
    "\n",
    "\n",
    "from selenium import webdriver\n",
    "from selenium.webdriver.chrome.service import Service\n",
    "from webdriver_manager.chrome import ChromeDriverManager\n",
    "from selenium.webdriver.common.by import By\n",
    "from bs4 import BeautifulSoup\n"
   ]
  },
  {
   "cell_type": "code",
   "execution_count": 139,
   "metadata": {},
   "outputs": [],
   "source": [
    "conn = pymysql.connect(\n",
    "        host='127.0.0.1',\n",
    "        user='root',\n",
    "        password='qwer1234',\n",
    "        db='sealevel',\n",
    "        charset='utf8'\n",
    "    )\n",
    "\n",
    "\n",
    "\n",
    "    # Connection으로부터 Cursor 생성\n",
    "curs = conn.cursor()\n",
    "\n",
    "# 전에있던 리스트 삭제\n",
    "sql = \"delete from navernews\"\n",
    "curs.execute(sql)\n",
    "conn.commit()\n",
    "\n",
    "chrome_options = webdriver.ChromeOptions()\n",
    "driver = webdriver.Chrome(service=Service(ChromeDriverManager().install()), options=chrome_options)\n",
    "driver.get(\"https://news.naver.com/breakingnews/section/103/248\")\n",
    "title = []\n",
    "publish = []\n",
    "link = []\n",
    "image = []\n",
    "\n",
    "try:\n",
    "        for num in range(1,5):\n",
    "\n",
    "            newstitle = driver.find_element(By.XPATH, f'//*[@id=\"newsct\"]/div[2]/div/div[1]/div[1]/ul/li[{num}]/div/div/div[2]/a/strong') \n",
    "            newspublish = driver.find_element(By.XPATH, f'//*[@id=\"newsct\"]/div[2]/div/div[1]/div[1]/ul/li[{num}]/div/div/div[2]/div[2]/div[1]/div[1]') \n",
    "            newsimage = driver.find_element(By.XPATH, f'//*[@id=\"newsct\"]/div[2]/div/div[1]/div[1]/ul/li[{num}]/div/div/div[1]/div/a/img') \n",
    "            newslink = driver.find_element(By.XPATH, f'//*[@id=\"newsct\"]/div[2]/div/div[1]/div[1]/ul/li[{num}]/div/div/div[1]/div/a') \n",
    "            \n",
    "            title.append(newstitle.text)\n",
    "            publish.append(newspublish.text)\n",
    "            image.append( newsimage.get_attribute('src'))\n",
    "            link.append(newslink.get_attribute('href'))\n",
    "        for j in range(4):\n",
    "            # sql 문장\n",
    "            sql = \"insert into navernews (title,publish,image,link) values (%s,%s,%s,%s)\"\n",
    "            curs.execute(sql,(title[j],publish[j],image[j],link[j]))\n",
    "            conn.commit()\n",
    "\n",
    "        conn.close()\n",
    "        curs.close()\n",
    "except Exception as e:\n",
    "        print(f\"에러 발생: {e}\")\n",
    "        if 'conn' in locals():\n",
    "            conn.rollback()  # 롤백 수행\n",
    "            conn.close()\n",
    "            curs.close()\n"
   ]
  },
  {
   "cell_type": "code",
   "execution_count": 199,
   "metadata": {},
   "outputs": [],
   "source": [
    "conn = pymysql.connect(\n",
    "        host='127.0.0.1',\n",
    "        user='root',\n",
    "        password='qwer1234',\n",
    "        db='sealevel',\n",
    "        charset='utf8'\n",
    "    )\n",
    "\n",
    "    # Connection으로부터 Cursor 생성\n",
    "curs = conn.cursor()\n",
    "\n",
    "# 전에있던 리스트 삭제\n",
    "sql = \"delete from youtubevidio\"\n",
    "curs.execute(sql)\n",
    "conn.commit()\n",
    "\n",
    "\n",
    "\n",
    "url = \"https://www.youtube.com/results?search_query=%ED%95%B4%EC%88%98%EB%A9%B4\"\n",
    "res = req.urlopen(url)\n",
    "soup = BeautifulSoup(res, \"html.parser\")\n",
    "\n",
    "chrome_options = webdriver.ChromeOptions()\n",
    "driver = webdriver.Chrome(service=Service(ChromeDriverManager().install()), options=chrome_options)\n",
    "driver.get(\"https://www.youtube.com/results?search_query=해수면\")\n",
    "\n",
    "datasource = driver.page_source # <<<<<< **********\n",
    "\n",
    "soup = BeautifulSoup(datasource, \"html.parser\")\n",
    "\n",
    "youlink = []\n",
    "youimage = []\n",
    "try:\n",
    "    for i in range(1,5):\n",
    "        vvv = driver.find_element(By.XPATH,f\"/html/body/ytd-app/div[1]/ytd-page-manager/ytd-search/div[1]/ytd-two-column-search-results-renderer/div/ytd-section-list-renderer/div[2]/ytd-item-section-renderer/div[3]/ytd-video-renderer[{i}]/div[1]/ytd-thumbnail/a\" )\n",
    "        bbb = driver.find_element(By.XPATH,f\"/html/body/ytd-app/div[1]/ytd-page-manager/ytd-search/div[1]/ytd-two-column-search-results-renderer/div/ytd-section-list-renderer/div[2]/ytd-item-section-renderer/div[3]/ytd-video-renderer[{i}]/div[1]/ytd-thumbnail/a/yt-image/img\" )\n",
    "        youlink.append(vvv.get_attribute('href'))\n",
    "        youimage.append(bbb.get_attribute('src'))\n",
    "        time.sleep(0.5)\n",
    "    for j in range(4):\n",
    "        # sql 문장\n",
    "        sql = \"insert into youtubevidio (link,image) values (%s,%s)\"\n",
    "        curs.execute(sql,(youlink[j],youimage[j]))\n",
    "        conn.commit()\n",
    "\n",
    "    conn.close()\n",
    "    curs.close()\n",
    "except Exception as e:\n",
    "        print(f\"에러 발생: {e}\")\n",
    "        if 'conn' in locals():\n",
    "            conn.rollback()  # 롤백 수행\n",
    "            conn.close()\n",
    "            curs.close()\n"
   ]
  },
  {
   "cell_type": "code",
   "execution_count": 62,
   "metadata": {},
   "outputs": [],
   "source": [
    "chrome_options = webdriver.ChromeOptions()\n",
    "driver = webdriver.Chrome(service=Service(ChromeDriverManager().install()), options=chrome_options)\n",
    "driver.get(\"https://www.youtube.com/results?search_query=해수면\")"
   ]
  },
  {
   "cell_type": "code",
   "execution_count": 148,
   "metadata": {},
   "outputs": [],
   "source": [
    "datasource = driver.page_source # <<<<<< **********\n",
    "\n",
    "soup = BeautifulSoup(datasource, \"html.parser\")"
   ]
  },
  {
   "cell_type": "code",
   "execution_count": 161,
   "metadata": {},
   "outputs": [
    {
     "data": {
      "text/plain": [
       "'https://i.ytimg.com/vi/6PXldtsw48c/hq720.jpg?sqp=-oaymwEcCNAFEJQDSFXyq4qpAw4IARUAAIhCGAFwAcABBg==&rs=AOn4CLAAxAR5DYMhKbUFlP_sur-VEk6FIA'"
      ]
     },
     "execution_count": 161,
     "metadata": {},
     "output_type": "execute_result"
    }
   ],
   "source": [
    "soup.select_one(\"a#thumbnail img\").get('src')"
   ]
  },
  {
   "cell_type": "code",
   "execution_count": 5,
   "metadata": {},
   "outputs": [],
   "source": [
    "vvv = driver.find_element(By.XPATH,\"/html/body/ytd-app/div[1]/ytd-page-manager/ytd-search/div[1]/ytd-two-column-search-results-renderer/div/ytd-section-list-renderer/div[2]/ytd-item-section-renderer/div[3]/ytd-video-renderer[1]/div[1]/ytd-thumbnail/a\" )\n",
    "bbb = driver.find_element(By.XPATH,\"/html/body/ytd-app/div[1]/ytd-page-manager/ytd-search/div[1]/ytd-two-column-search-results-renderer/div/ytd-section-list-renderer/div[2]/ytd-item-section-renderer/div[3]/ytd-video-renderer[2]/div[1]/ytd-thumbnail/a\" )\n",
    "aaa = driver.find_element(By.XPATH,\"/html/body/ytd-app/div[1]/ytd-page-manager/ytd-search/div[1]/ytd-two-column-search-results-renderer/div/ytd-section-list-renderer/div[2]/ytd-item-section-renderer/div[3]/ytd-video-renderer[4]/div[1]/ytd-thumbnail/a/yt-image/img\" )\n"
   ]
  },
  {
   "cell_type": "code",
   "execution_count": 10,
   "metadata": {},
   "outputs": [],
   "source": [
    "bbb.get_attribute('src')"
   ]
  },
  {
   "cell_type": "code",
   "execution_count": null,
   "metadata": {},
   "outputs": [],
   "source": [
    "/html/body/ytd-app/div[1]/ytd-page-manager/ytd-search/div[1]/ytd-two-column-search-results-renderer/div/ytd-section-list-renderer/div[2]/ytd-item-section-renderer/div[3]/ytd-video-renderer[4]/div[1]/ytd-thumbnail/a/yt-image/img\n",
    "/html/body/ytd-app/div[1]/ytd-page-manager/ytd-search/div[1]/ytd-two-column-search-results-renderer/div/ytd-section-list-renderer/div[2]/ytd-item-section-renderer/div[3]/ytd-video-renderer[3]/div[1]/ytd-thumbnail/a/yt-image/img"
   ]
  },
  {
   "cell_type": "code",
   "execution_count": 65,
   "metadata": {},
   "outputs": [
    {
     "name": "stdout",
     "output_type": "stream",
     "text": [
      "넣을 이미지 이름 https://i.ytimg.com/vi/2xafLL8Dyek/hq720.jpg?sqp=-oaymwEcCNAFEJQDSFXyq4qpAw4IARUAAIhCGAFwAcABBg==&rs=AOn4CLDXj8icVmzegWMhsy5zdO9RqrOxHA\n",
      "넣을 이미지 이름 https://i.ytimg.com/vi/Z_CxFpDbkPk/hq720.jpg?sqp=-oaymwEcCNAFEJQDSFXyq4qpAw4IARUAAIhCGAFwAcABBg==&rs=AOn4CLChFEfJvwepRpCKXNzv0gzC7XETgw\n",
      "넣을 이미지 이름 https://i.ytimg.com/vi/gGfGqMyEF0M/hq720.jpg?sqp=-oaymwEcCNAFEJQDSFXyq4qpAw4IARUAAIhCGAFwAcABBg==&rs=AOn4CLAUfzlB_VXXyVexyJE2PGWLSbww3w\n",
      "넣을 이미지 이름 https://i.ytimg.com/vi/OncXHs-UHwo/hq720.jpg?sqp=-oaymwEcCNAFEJQDSFXyq4qpAw4IARUAAIhCGAFwAcABBg==&rs=AOn4CLATPzH0GaVT_F9MT9Cri66sm6uDHQ\n"
     ]
    }
   ],
   "source": [
    "chrome_options = webdriver.ChromeOptions()\n",
    "driver = webdriver.Chrome(service=Service(ChromeDriverManager().install()), options=chrome_options)\n",
    "driver.get(\"https://www.youtube.com/results?search_query=해수면\")\n",
    "\n",
    "\n",
    "conn = pymysql.connect(\n",
    "        host='127.0.0.1',\n",
    "        user='root',\n",
    "        password='qwer1234',\n",
    "        db='sealevel',\n",
    "        charset='utf8'\n",
    "    )\n",
    "\n",
    "        # Connection으로부터 Cursor 생성\n",
    "curs = conn.cursor()\n",
    "\n",
    "    # 전에있던 리스트 삭제\n",
    "sql = \"delete from youtubevidio\"\n",
    "curs.execute(sql)\n",
    "conn.commit()\n",
    "\n",
    "youlink = []\n",
    "youimage = []\n",
    "\n",
    "try:\n",
    "    for i in range(1,5):\n",
    "        if i == 4:\n",
    "            driver.execute_script(\"window.scrollBy(0, 600);\")\n",
    "            time.sleep(3)  # 스크롤 후 페이지가 로드될 시간을 줍니다.\n",
    "\n",
    "        video_renderer = driver.find_element(By.XPATH, f\"(//ytd-video-renderer)[{i}]\")\n",
    "        yes = video_renderer.find_element(By.CSS_SELECTOR, \"a#thumbnail yt-image img\")\n",
    "        no = video_renderer.find_element(By.CSS_SELECTOR, \"a#thumbnail\")\n",
    "        youimage.append(yes.get_attribute('src'))\n",
    "        youlink.append(no.get_attribute('href'))\n",
    "    for n in range(4):\n",
    "        # sql 문장\n",
    "        print(\"넣을 이미지 이름\" ,youimage[n])\n",
    "        sql = \"insert into youtubevidio (link,image) values (%s,%s)\"\n",
    "        curs.execute(sql,(youlink[n],youimage[n]))\n",
    "                \n",
    "        conn.commit()\n",
    "\n",
    "    curs.close()\n",
    "    conn.close()\n",
    "except Exception as e:\n",
    "    print(f\"에러 발생: {e}\")\n",
    "    if 'conn' in locals():\n",
    "        conn.rollback()  # 롤백 수행\n",
    "        conn.close()\n",
    "        curs.close()\n",
    "driver.quit()\n"
   ]
  },
  {
   "cell_type": "code",
   "execution_count": 38,
   "metadata": {},
   "outputs": [],
   "source": [
    "yes = video_renderer.find_element(By.CSS_SELECTOR, \"a#thumbnail yt-image img\")"
   ]
  },
  {
   "cell_type": "code",
   "execution_count": 40,
   "metadata": {},
   "outputs": [
    {
     "data": {
      "text/plain": [
       "'https://i.ytimg.com/vi/W8s3qdQuK1w/hq720.jpg?sqp=-oaymwEcCNAFEJQDSFXyq4qpAw4IARUAAIhCGAFwAcABBg==&rs=AOn4CLDfRpaPYyhOmALUzPMt0wlVQRXtsA'"
      ]
     },
     "execution_count": 40,
     "metadata": {},
     "output_type": "execute_result"
    }
   ],
   "source": [
    "yes.get_attribute('src')"
   ]
  },
  {
   "cell_type": "code",
   "execution_count": 28,
   "metadata": {},
   "outputs": [
    {
     "data": {
      "text/plain": [
       "'https://i.ytimg.com/vi/6PXldtsw48c/hq720.jpg?sqp=-oaymwEcCNAFEJQDSFXyq4qpAw4IARUAAIhCGAFwAcABBg==&rs=AOn4CLAAxAR5DYMhKbUFlP_sur-VEk6FIA'"
      ]
     },
     "execution_count": 28,
     "metadata": {},
     "output_type": "execute_result"
    }
   ],
   "source": [
    "bbb.get_attribute('src')"
   ]
  },
  {
   "cell_type": "code",
   "execution_count": 16,
   "metadata": {},
   "outputs": [],
   "source": [
    "bbb.get_attribute('src')"
   ]
  },
  {
   "cell_type": "code",
   "execution_count": 180,
   "metadata": {},
   "outputs": [],
   "source": [
    "#soup.select('#thumbnail')"
   ]
  },
  {
   "cell_type": "code",
   "execution_count": null,
   "metadata": {},
   "outputs": [],
   "source": [
    "# #contents > ytd-video-renderer:nth-child(2)\n",
    "# //*[@id=\"contents\"]/ytd-video-renderer[2]\n",
    "# #dismissible\n",
    "# //*[@id=\"dismissible\"]\n",
    "#thumbnail"
   ]
  }
 ],
 "metadata": {
  "kernelspec": {
   "display_name": "base",
   "language": "python",
   "name": "python3"
  },
  "language_info": {
   "codemirror_mode": {
    "name": "ipython",
    "version": 3
   },
   "file_extension": ".py",
   "mimetype": "text/x-python",
   "name": "python",
   "nbconvert_exporter": "python",
   "pygments_lexer": "ipython3",
   "version": "3.11.7"
  }
 },
 "nbformat": 4,
 "nbformat_minor": 2
}
