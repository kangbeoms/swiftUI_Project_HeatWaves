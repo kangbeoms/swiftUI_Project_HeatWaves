{
 "cells": [
  {
   "cell_type": "code",
   "execution_count": 7,
   "metadata": {},
   "outputs": [],
   "source": [
    "import pandas as pd\n",
    "import numpy as np\n",
    "import seaborn as sns\n",
    "from datetime import datetime, timedelta\n",
    "import matplotlib.pyplot as plt\n",
    "from sklearn.model_selection import train_test_split\n",
    "from sklearn.neighbors import KNeighborsRegressor\n",
    "from sklearn.linear_model import LinearRegression\n",
    "from sklearn.preprocessing import StandardScaler\n",
    "from sklearn.linear_model import Ridge\n",
    "# 다중 회귀분석\n",
    "from sklearn.preprocessing import PolynomialFeatures\n",
    "import warnings\n",
    "warnings.filterwarnings('ignore')\n",
    "from sklearn.cluster import KMeans\n",
    "from sklearn import model_selection\n",
    "from sklearn.decomposition import PCA\n",
    "from sklearn.preprocessing import StandardScaler\n",
    "from sklearn.preprocessing import MinMaxScaler\n",
    "from sklearn.metrics import mean_absolute_error\n",
    "from sklearn.model_selection import GridSearchCV\n",
    "from sklearn.model_selection import cross_val_score\n",
    "from sklearn.model_selection import GridSearchCV"
   ]
  },
  {
   "cell_type": "code",
   "execution_count": 8,
   "metadata": {},
   "outputs": [],
   "source": [
    "# 한글 폰트 문제 해결 \n",
    "# matplotlib은 한글 폰트를 지원하지 않음\n",
    "# os정보\n",
    "import platform\n",
    "\n",
    "# font_manager : 폰트 관리 모듈\n",
    "# rc : 폰트 변경 모듈\n",
    "from matplotlib import font_manager, rc\n",
    "# unicode 설정\n",
    "plt.rcParams['axes.unicode_minus'] = False\n",
    "\n",
    "if platform.system() == 'Darwin':\n",
    "    rc('font', family='AppleGothic') # os가 macos\n",
    "elif platform.system() == 'Windows':\n",
    "    path = 'c:/Windows/Fonts/malgun.ttf' # os가 windows\n",
    "    font_name = font_manager.FontProperties(fname=path).get_name()\n",
    "    rc('font', family=font_name)\n",
    "else:\n",
    "    print(\"Unknown System\")"
   ]
  },
  {
   "cell_type": "code",
   "execution_count": 9,
   "metadata": {},
   "outputs": [],
   "source": [
    "data = pd.read_csv('../file/data_ver5.csv')"
   ]
  },
  {
   "cell_type": "code",
   "execution_count": 10,
   "metadata": {},
   "outputs": [],
   "source": [
    "#data.to_csv('../file/data_ver5.csv',index=False)"
   ]
  },
  {
   "cell_type": "code",
   "execution_count": 11,
   "metadata": {},
   "outputs": [],
   "source": [
    "#del data['Unnamed: 0']"
   ]
  },
  {
   "cell_type": "code",
   "execution_count": 12,
   "metadata": {},
   "outputs": [],
   "source": [
    "data.head()\n",
    "data2 = data.drop(columns='평균 해상 강수량')"
   ]
  },
  {
   "cell_type": "code",
   "execution_count": 13,
   "metadata": {},
   "outputs": [],
   "source": [
    "#data = data.rename(columns={'평균 바다 표면 온도':'지구 평균 온도'})"
   ]
  },
  {
   "cell_type": "code",
   "execution_count": 14,
   "metadata": {},
   "outputs": [
    {
     "data": {
      "text/html": [
       "<div>\n",
       "<style scoped>\n",
       "    .dataframe tbody tr th:only-of-type {\n",
       "        vertical-align: middle;\n",
       "    }\n",
       "\n",
       "    .dataframe tbody tr th {\n",
       "        vertical-align: top;\n",
       "    }\n",
       "\n",
       "    .dataframe thead th {\n",
       "        text-align: right;\n",
       "    }\n",
       "</style>\n",
       "<table border=\"1\" class=\"dataframe\">\n",
       "  <thead>\n",
       "    <tr style=\"text-align: right;\">\n",
       "      <th></th>\n",
       "      <th>Year</th>\n",
       "      <th>sealevel</th>\n",
       "      <th>co2</th>\n",
       "      <th>Population</th>\n",
       "      <th>Thickness</th>\n",
       "      <th>북극 해빙면적 평균</th>\n",
       "      <th>해상 평균 온도</th>\n",
       "      <th>지구 평균 온도</th>\n",
       "    </tr>\n",
       "  </thead>\n",
       "  <tbody>\n",
       "    <tr>\n",
       "      <th>0</th>\n",
       "      <td>1990</td>\n",
       "      <td>-22.847396</td>\n",
       "      <td>22849.92</td>\n",
       "      <td>5.28</td>\n",
       "      <td>2.035898</td>\n",
       "      <td>9.668333</td>\n",
       "      <td>16.578333</td>\n",
       "      <td>18.078333</td>\n",
       "    </tr>\n",
       "    <tr>\n",
       "      <th>1</th>\n",
       "      <td>1991</td>\n",
       "      <td>-22.814062</td>\n",
       "      <td>23056.40</td>\n",
       "      <td>5.37</td>\n",
       "      <td>2.025763</td>\n",
       "      <td>9.742500</td>\n",
       "      <td>16.541667</td>\n",
       "      <td>18.073333</td>\n",
       "    </tr>\n",
       "    <tr>\n",
       "      <th>2</th>\n",
       "      <td>1992</td>\n",
       "      <td>-20.247396</td>\n",
       "      <td>22988.29</td>\n",
       "      <td>5.45</td>\n",
       "      <td>2.024229</td>\n",
       "      <td>10.099167</td>\n",
       "      <td>16.380000</td>\n",
       "      <td>18.010000</td>\n",
       "    </tr>\n",
       "    <tr>\n",
       "      <th>3</th>\n",
       "      <td>1993</td>\n",
       "      <td>-22.780729</td>\n",
       "      <td>23124.00</td>\n",
       "      <td>5.54</td>\n",
       "      <td>1.934320</td>\n",
       "      <td>9.810000</td>\n",
       "      <td>16.402500</td>\n",
       "      <td>18.022500</td>\n",
       "    </tr>\n",
       "    <tr>\n",
       "      <th>4</th>\n",
       "      <td>1994</td>\n",
       "      <td>-17.980729</td>\n",
       "      <td>23260.29</td>\n",
       "      <td>5.62</td>\n",
       "      <td>1.974827</td>\n",
       "      <td>9.989167</td>\n",
       "      <td>16.380000</td>\n",
       "      <td>18.030000</td>\n",
       "    </tr>\n",
       "  </tbody>\n",
       "</table>\n",
       "</div>"
      ],
      "text/plain": [
       "   Year   sealevel       co2   Population  Thickness  북극 해빙면적 평균   해상 평균 온도  \\\n",
       "0  1990 -22.847396  22849.92         5.28   2.035898    9.668333  16.578333   \n",
       "1  1991 -22.814062  23056.40         5.37   2.025763    9.742500  16.541667   \n",
       "2  1992 -20.247396  22988.29         5.45   2.024229   10.099167  16.380000   \n",
       "3  1993 -22.780729  23124.00         5.54   1.934320    9.810000  16.402500   \n",
       "4  1994 -17.980729  23260.29         5.62   1.974827    9.989167  16.380000   \n",
       "\n",
       "    지구 평균 온도  \n",
       "0  18.078333  \n",
       "1  18.073333  \n",
       "2  18.010000  \n",
       "3  18.022500  \n",
       "4  18.030000  "
      ]
     },
     "execution_count": 14,
     "metadata": {},
     "output_type": "execute_result"
    }
   ],
   "source": [
    "data2.head()"
   ]
  },
  {
   "cell_type": "code",
   "execution_count": 15,
   "metadata": {},
   "outputs": [],
   "source": [
    "#data3 = data2.drop(columns='')"
   ]
  },
  {
   "cell_type": "code",
   "execution_count": 44,
   "metadata": {},
   "outputs": [],
   "source": [
    "tar = data2['sealevel'].values\n",
    "fea = data2.drop(columns='sealevel').values"
   ]
  },
  {
   "cell_type": "code",
   "execution_count": 45,
   "metadata": {},
   "outputs": [],
   "source": [
    "train_input, test_input, train_target, test_target = \\\n",
    "    train_test_split(fea, tar)"
   ]
  },
  {
   "cell_type": "code",
   "execution_count": 46,
   "metadata": {},
   "outputs": [
    {
     "name": "stdout",
     "output_type": "stream",
     "text": [
      "(21, 7) (7, 7)\n"
     ]
    }
   ],
   "source": [
    "print(train_input.shape, test_input.shape)"
   ]
  },
  {
   "cell_type": "markdown",
   "metadata": {},
   "source": [
    "---\n",
    "## 선형회귀"
   ]
  },
  {
   "cell_type": "code",
   "execution_count": 19,
   "metadata": {},
   "outputs": [
    {
     "data": {
      "text/html": [
       "<style>#sk-container-id-1 {color: black;background-color: white;}#sk-container-id-1 pre{padding: 0;}#sk-container-id-1 div.sk-toggleable {background-color: white;}#sk-container-id-1 label.sk-toggleable__label {cursor: pointer;display: block;width: 100%;margin-bottom: 0;padding: 0.3em;box-sizing: border-box;text-align: center;}#sk-container-id-1 label.sk-toggleable__label-arrow:before {content: \"▸\";float: left;margin-right: 0.25em;color: #696969;}#sk-container-id-1 label.sk-toggleable__label-arrow:hover:before {color: black;}#sk-container-id-1 div.sk-estimator:hover label.sk-toggleable__label-arrow:before {color: black;}#sk-container-id-1 div.sk-toggleable__content {max-height: 0;max-width: 0;overflow: hidden;text-align: left;background-color: #f0f8ff;}#sk-container-id-1 div.sk-toggleable__content pre {margin: 0.2em;color: black;border-radius: 0.25em;background-color: #f0f8ff;}#sk-container-id-1 input.sk-toggleable__control:checked~div.sk-toggleable__content {max-height: 200px;max-width: 100%;overflow: auto;}#sk-container-id-1 input.sk-toggleable__control:checked~label.sk-toggleable__label-arrow:before {content: \"▾\";}#sk-container-id-1 div.sk-estimator input.sk-toggleable__control:checked~label.sk-toggleable__label {background-color: #d4ebff;}#sk-container-id-1 div.sk-label input.sk-toggleable__control:checked~label.sk-toggleable__label {background-color: #d4ebff;}#sk-container-id-1 input.sk-hidden--visually {border: 0;clip: rect(1px 1px 1px 1px);clip: rect(1px, 1px, 1px, 1px);height: 1px;margin: -1px;overflow: hidden;padding: 0;position: absolute;width: 1px;}#sk-container-id-1 div.sk-estimator {font-family: monospace;background-color: #f0f8ff;border: 1px dotted black;border-radius: 0.25em;box-sizing: border-box;margin-bottom: 0.5em;}#sk-container-id-1 div.sk-estimator:hover {background-color: #d4ebff;}#sk-container-id-1 div.sk-parallel-item::after {content: \"\";width: 100%;border-bottom: 1px solid gray;flex-grow: 1;}#sk-container-id-1 div.sk-label:hover label.sk-toggleable__label {background-color: #d4ebff;}#sk-container-id-1 div.sk-serial::before {content: \"\";position: absolute;border-left: 1px solid gray;box-sizing: border-box;top: 0;bottom: 0;left: 50%;z-index: 0;}#sk-container-id-1 div.sk-serial {display: flex;flex-direction: column;align-items: center;background-color: white;padding-right: 0.2em;padding-left: 0.2em;position: relative;}#sk-container-id-1 div.sk-item {position: relative;z-index: 1;}#sk-container-id-1 div.sk-parallel {display: flex;align-items: stretch;justify-content: center;background-color: white;position: relative;}#sk-container-id-1 div.sk-item::before, #sk-container-id-1 div.sk-parallel-item::before {content: \"\";position: absolute;border-left: 1px solid gray;box-sizing: border-box;top: 0;bottom: 0;left: 50%;z-index: -1;}#sk-container-id-1 div.sk-parallel-item {display: flex;flex-direction: column;z-index: 1;position: relative;background-color: white;}#sk-container-id-1 div.sk-parallel-item:first-child::after {align-self: flex-end;width: 50%;}#sk-container-id-1 div.sk-parallel-item:last-child::after {align-self: flex-start;width: 50%;}#sk-container-id-1 div.sk-parallel-item:only-child::after {width: 0;}#sk-container-id-1 div.sk-dashed-wrapped {border: 1px dashed gray;margin: 0 0.4em 0.5em 0.4em;box-sizing: border-box;padding-bottom: 0.4em;background-color: white;}#sk-container-id-1 div.sk-label label {font-family: monospace;font-weight: bold;display: inline-block;line-height: 1.2em;}#sk-container-id-1 div.sk-label-container {text-align: center;}#sk-container-id-1 div.sk-container {/* jupyter's `normalize.less` sets `[hidden] { display: none; }` but bootstrap.min.css set `[hidden] { display: none !important; }` so we also need the `!important` here to be able to override the default hidden behavior on the sphinx rendered scikit-learn.org. See: https://github.com/scikit-learn/scikit-learn/issues/21755 */display: inline-block !important;position: relative;}#sk-container-id-1 div.sk-text-repr-fallback {display: none;}</style><div id=\"sk-container-id-1\" class=\"sk-top-container\"><div class=\"sk-text-repr-fallback\"><pre>LinearRegression()</pre><b>In a Jupyter environment, please rerun this cell to show the HTML representation or trust the notebook. <br />On GitHub, the HTML representation is unable to render, please try loading this page with nbviewer.org.</b></div><div class=\"sk-container\" hidden><div class=\"sk-item\"><div class=\"sk-estimator sk-toggleable\"><input class=\"sk-toggleable__control sk-hidden--visually\" id=\"sk-estimator-id-1\" type=\"checkbox\" checked><label for=\"sk-estimator-id-1\" class=\"sk-toggleable__label sk-toggleable__label-arrow\">LinearRegression</label><div class=\"sk-toggleable__content\"><pre>LinearRegression()</pre></div></div></div></div></div>"
      ],
      "text/plain": [
       "LinearRegression()"
      ]
     },
     "execution_count": 19,
     "metadata": {},
     "output_type": "execute_result"
    }
   ],
   "source": [
    "lr = LinearRegression()\n",
    "lr.fit(train_input,train_target)"
   ]
  },
  {
   "cell_type": "code",
   "execution_count": 20,
   "metadata": {},
   "outputs": [
    {
     "name": "stdout",
     "output_type": "stream",
     "text": [
      "0.9755311016112116\n",
      "0.9613343170775193\n",
      "교차검증 점수: [ 0.85177406  0.76075845  0.9718097   0.89077478 -0.29110147  0.8503117 ]\n",
      "교차검증 점수 평균: 0.6723878686989169\n"
     ]
    }
   ],
   "source": [
    "print(lr.score(train_input,train_target))\n",
    "print(lr.score(test_input,test_target))\n",
    "scores = cross_val_score(lr, train_input, train_target, cv=6)\n",
    "print(f\"교차검증 점수: {scores}\")\n",
    "print(f\"교차검증 점수 평균: {scores.mean()}\")"
   ]
  },
  {
   "cell_type": "markdown",
   "metadata": {},
   "source": [
    "---\n",
    "## 다항회귀"
   ]
  },
  {
   "cell_type": "code",
   "execution_count": 21,
   "metadata": {},
   "outputs": [],
   "source": [
    "train_poly = np.column_stack((train_input**2,train_input))\n",
    "test_poly = np.column_stack((test_input**2,test_input))"
   ]
  },
  {
   "cell_type": "code",
   "execution_count": 22,
   "metadata": {},
   "outputs": [
    {
     "name": "stdout",
     "output_type": "stream",
     "text": [
      "(21, 14) (7, 14)\n"
     ]
    }
   ],
   "source": [
    "print(train_poly.shape,test_poly.shape)"
   ]
  },
  {
   "cell_type": "code",
   "execution_count": 23,
   "metadata": {},
   "outputs": [
    {
     "data": {
      "text/html": [
       "<style>#sk-container-id-2 {color: black;background-color: white;}#sk-container-id-2 pre{padding: 0;}#sk-container-id-2 div.sk-toggleable {background-color: white;}#sk-container-id-2 label.sk-toggleable__label {cursor: pointer;display: block;width: 100%;margin-bottom: 0;padding: 0.3em;box-sizing: border-box;text-align: center;}#sk-container-id-2 label.sk-toggleable__label-arrow:before {content: \"▸\";float: left;margin-right: 0.25em;color: #696969;}#sk-container-id-2 label.sk-toggleable__label-arrow:hover:before {color: black;}#sk-container-id-2 div.sk-estimator:hover label.sk-toggleable__label-arrow:before {color: black;}#sk-container-id-2 div.sk-toggleable__content {max-height: 0;max-width: 0;overflow: hidden;text-align: left;background-color: #f0f8ff;}#sk-container-id-2 div.sk-toggleable__content pre {margin: 0.2em;color: black;border-radius: 0.25em;background-color: #f0f8ff;}#sk-container-id-2 input.sk-toggleable__control:checked~div.sk-toggleable__content {max-height: 200px;max-width: 100%;overflow: auto;}#sk-container-id-2 input.sk-toggleable__control:checked~label.sk-toggleable__label-arrow:before {content: \"▾\";}#sk-container-id-2 div.sk-estimator input.sk-toggleable__control:checked~label.sk-toggleable__label {background-color: #d4ebff;}#sk-container-id-2 div.sk-label input.sk-toggleable__control:checked~label.sk-toggleable__label {background-color: #d4ebff;}#sk-container-id-2 input.sk-hidden--visually {border: 0;clip: rect(1px 1px 1px 1px);clip: rect(1px, 1px, 1px, 1px);height: 1px;margin: -1px;overflow: hidden;padding: 0;position: absolute;width: 1px;}#sk-container-id-2 div.sk-estimator {font-family: monospace;background-color: #f0f8ff;border: 1px dotted black;border-radius: 0.25em;box-sizing: border-box;margin-bottom: 0.5em;}#sk-container-id-2 div.sk-estimator:hover {background-color: #d4ebff;}#sk-container-id-2 div.sk-parallel-item::after {content: \"\";width: 100%;border-bottom: 1px solid gray;flex-grow: 1;}#sk-container-id-2 div.sk-label:hover label.sk-toggleable__label {background-color: #d4ebff;}#sk-container-id-2 div.sk-serial::before {content: \"\";position: absolute;border-left: 1px solid gray;box-sizing: border-box;top: 0;bottom: 0;left: 50%;z-index: 0;}#sk-container-id-2 div.sk-serial {display: flex;flex-direction: column;align-items: center;background-color: white;padding-right: 0.2em;padding-left: 0.2em;position: relative;}#sk-container-id-2 div.sk-item {position: relative;z-index: 1;}#sk-container-id-2 div.sk-parallel {display: flex;align-items: stretch;justify-content: center;background-color: white;position: relative;}#sk-container-id-2 div.sk-item::before, #sk-container-id-2 div.sk-parallel-item::before {content: \"\";position: absolute;border-left: 1px solid gray;box-sizing: border-box;top: 0;bottom: 0;left: 50%;z-index: -1;}#sk-container-id-2 div.sk-parallel-item {display: flex;flex-direction: column;z-index: 1;position: relative;background-color: white;}#sk-container-id-2 div.sk-parallel-item:first-child::after {align-self: flex-end;width: 50%;}#sk-container-id-2 div.sk-parallel-item:last-child::after {align-self: flex-start;width: 50%;}#sk-container-id-2 div.sk-parallel-item:only-child::after {width: 0;}#sk-container-id-2 div.sk-dashed-wrapped {border: 1px dashed gray;margin: 0 0.4em 0.5em 0.4em;box-sizing: border-box;padding-bottom: 0.4em;background-color: white;}#sk-container-id-2 div.sk-label label {font-family: monospace;font-weight: bold;display: inline-block;line-height: 1.2em;}#sk-container-id-2 div.sk-label-container {text-align: center;}#sk-container-id-2 div.sk-container {/* jupyter's `normalize.less` sets `[hidden] { display: none; }` but bootstrap.min.css set `[hidden] { display: none !important; }` so we also need the `!important` here to be able to override the default hidden behavior on the sphinx rendered scikit-learn.org. See: https://github.com/scikit-learn/scikit-learn/issues/21755 */display: inline-block !important;position: relative;}#sk-container-id-2 div.sk-text-repr-fallback {display: none;}</style><div id=\"sk-container-id-2\" class=\"sk-top-container\"><div class=\"sk-text-repr-fallback\"><pre>LinearRegression()</pre><b>In a Jupyter environment, please rerun this cell to show the HTML representation or trust the notebook. <br />On GitHub, the HTML representation is unable to render, please try loading this page with nbviewer.org.</b></div><div class=\"sk-container\" hidden><div class=\"sk-item\"><div class=\"sk-estimator sk-toggleable\"><input class=\"sk-toggleable__control sk-hidden--visually\" id=\"sk-estimator-id-2\" type=\"checkbox\" checked><label for=\"sk-estimator-id-2\" class=\"sk-toggleable__label sk-toggleable__label-arrow\">LinearRegression</label><div class=\"sk-toggleable__content\"><pre>LinearRegression()</pre></div></div></div></div></div>"
      ],
      "text/plain": [
       "LinearRegression()"
      ]
     },
     "execution_count": 23,
     "metadata": {},
     "output_type": "execute_result"
    }
   ],
   "source": [
    "lr.fit(train_poly,train_target)"
   ]
  },
  {
   "cell_type": "code",
   "execution_count": 24,
   "metadata": {},
   "outputs": [
    {
     "name": "stdout",
     "output_type": "stream",
     "text": [
      "0.9947862665934387\n",
      "0.7336986870806139\n",
      "교차검증 점수: [ 0.93955547  0.39936941  0.44638991  0.55206948 -1.89939879  0.74971803]\n",
      "교차검증 점수 평균: 0.1979505839962513\n"
     ]
    }
   ],
   "source": [
    "print(lr.score(train_poly,train_target))\n",
    "print(lr.score(test_poly,test_target))\n",
    "scores = cross_val_score(lr, train_poly, train_target, cv=6)\n",
    "print(f\"교차검증 점수: {scores}\")\n",
    "print(f\"교차검증 점수 평균: {scores.mean()}\")"
   ]
  },
  {
   "cell_type": "code",
   "execution_count": 25,
   "metadata": {},
   "outputs": [
    {
     "name": "stdout",
     "output_type": "stream",
     "text": [
      "train score : 0.9748135414885768\n",
      "test score : 0.9658837529185405\n",
      "교차검증 점수: [0.84227887 0.79904602 0.98644119 0.88571278 0.31974694 0.86417229]\n",
      "교차검증 점수 평균: 0.7828996812549073\n"
     ]
    }
   ],
   "source": [
    "ss = StandardScaler()\n",
    "ss.fit(train_poly)\n",
    "train_scaled = ss.transform(train_poly)\n",
    "test_scaled = ss.transform(test_poly)\n",
    "\n",
    "ridge = Ridge()\n",
    "ridge.fit(train_scaled,train_target)\n",
    "print(\"train score :\",ridge.score(train_scaled,train_target))\n",
    "print(\"test score :\",ridge.score(test_scaled,test_target))\n",
    "scores = cross_val_score(ridge, train_scaled, train_target, cv=6)\n",
    "print(f\"교차검증 점수: {scores}\")\n",
    "print(f\"교차검증 점수 평균: {scores.mean()}\")"
   ]
  },
  {
   "cell_type": "markdown",
   "metadata": {},
   "source": [
    "## 다항은 아닌듯"
   ]
  },
  {
   "cell_type": "markdown",
   "metadata": {},
   "source": [
    "---\n",
    "## 스캐일 후 해보자"
   ]
  },
  {
   "cell_type": "code",
   "execution_count": 47,
   "metadata": {},
   "outputs": [
    {
     "data": {
      "text/html": [
       "<style>#sk-container-id-6 {color: black;background-color: white;}#sk-container-id-6 pre{padding: 0;}#sk-container-id-6 div.sk-toggleable {background-color: white;}#sk-container-id-6 label.sk-toggleable__label {cursor: pointer;display: block;width: 100%;margin-bottom: 0;padding: 0.3em;box-sizing: border-box;text-align: center;}#sk-container-id-6 label.sk-toggleable__label-arrow:before {content: \"▸\";float: left;margin-right: 0.25em;color: #696969;}#sk-container-id-6 label.sk-toggleable__label-arrow:hover:before {color: black;}#sk-container-id-6 div.sk-estimator:hover label.sk-toggleable__label-arrow:before {color: black;}#sk-container-id-6 div.sk-toggleable__content {max-height: 0;max-width: 0;overflow: hidden;text-align: left;background-color: #f0f8ff;}#sk-container-id-6 div.sk-toggleable__content pre {margin: 0.2em;color: black;border-radius: 0.25em;background-color: #f0f8ff;}#sk-container-id-6 input.sk-toggleable__control:checked~div.sk-toggleable__content {max-height: 200px;max-width: 100%;overflow: auto;}#sk-container-id-6 input.sk-toggleable__control:checked~label.sk-toggleable__label-arrow:before {content: \"▾\";}#sk-container-id-6 div.sk-estimator input.sk-toggleable__control:checked~label.sk-toggleable__label {background-color: #d4ebff;}#sk-container-id-6 div.sk-label input.sk-toggleable__control:checked~label.sk-toggleable__label {background-color: #d4ebff;}#sk-container-id-6 input.sk-hidden--visually {border: 0;clip: rect(1px 1px 1px 1px);clip: rect(1px, 1px, 1px, 1px);height: 1px;margin: -1px;overflow: hidden;padding: 0;position: absolute;width: 1px;}#sk-container-id-6 div.sk-estimator {font-family: monospace;background-color: #f0f8ff;border: 1px dotted black;border-radius: 0.25em;box-sizing: border-box;margin-bottom: 0.5em;}#sk-container-id-6 div.sk-estimator:hover {background-color: #d4ebff;}#sk-container-id-6 div.sk-parallel-item::after {content: \"\";width: 100%;border-bottom: 1px solid gray;flex-grow: 1;}#sk-container-id-6 div.sk-label:hover label.sk-toggleable__label {background-color: #d4ebff;}#sk-container-id-6 div.sk-serial::before {content: \"\";position: absolute;border-left: 1px solid gray;box-sizing: border-box;top: 0;bottom: 0;left: 50%;z-index: 0;}#sk-container-id-6 div.sk-serial {display: flex;flex-direction: column;align-items: center;background-color: white;padding-right: 0.2em;padding-left: 0.2em;position: relative;}#sk-container-id-6 div.sk-item {position: relative;z-index: 1;}#sk-container-id-6 div.sk-parallel {display: flex;align-items: stretch;justify-content: center;background-color: white;position: relative;}#sk-container-id-6 div.sk-item::before, #sk-container-id-6 div.sk-parallel-item::before {content: \"\";position: absolute;border-left: 1px solid gray;box-sizing: border-box;top: 0;bottom: 0;left: 50%;z-index: -1;}#sk-container-id-6 div.sk-parallel-item {display: flex;flex-direction: column;z-index: 1;position: relative;background-color: white;}#sk-container-id-6 div.sk-parallel-item:first-child::after {align-self: flex-end;width: 50%;}#sk-container-id-6 div.sk-parallel-item:last-child::after {align-self: flex-start;width: 50%;}#sk-container-id-6 div.sk-parallel-item:only-child::after {width: 0;}#sk-container-id-6 div.sk-dashed-wrapped {border: 1px dashed gray;margin: 0 0.4em 0.5em 0.4em;box-sizing: border-box;padding-bottom: 0.4em;background-color: white;}#sk-container-id-6 div.sk-label label {font-family: monospace;font-weight: bold;display: inline-block;line-height: 1.2em;}#sk-container-id-6 div.sk-label-container {text-align: center;}#sk-container-id-6 div.sk-container {/* jupyter's `normalize.less` sets `[hidden] { display: none; }` but bootstrap.min.css set `[hidden] { display: none !important; }` so we also need the `!important` here to be able to override the default hidden behavior on the sphinx rendered scikit-learn.org. See: https://github.com/scikit-learn/scikit-learn/issues/21755 */display: inline-block !important;position: relative;}#sk-container-id-6 div.sk-text-repr-fallback {display: none;}</style><div id=\"sk-container-id-6\" class=\"sk-top-container\"><div class=\"sk-text-repr-fallback\"><pre>StandardScaler()</pre><b>In a Jupyter environment, please rerun this cell to show the HTML representation or trust the notebook. <br />On GitHub, the HTML representation is unable to render, please try loading this page with nbviewer.org.</b></div><div class=\"sk-container\" hidden><div class=\"sk-item\"><div class=\"sk-estimator sk-toggleable\"><input class=\"sk-toggleable__control sk-hidden--visually\" id=\"sk-estimator-id-6\" type=\"checkbox\" checked><label for=\"sk-estimator-id-6\" class=\"sk-toggleable__label sk-toggleable__label-arrow\">StandardScaler</label><div class=\"sk-toggleable__content\"><pre>StandardScaler()</pre></div></div></div></div></div>"
      ],
      "text/plain": [
       "StandardScaler()"
      ]
     },
     "execution_count": 47,
     "metadata": {},
     "output_type": "execute_result"
    }
   ],
   "source": [
    "ss = StandardScaler()\n",
    "ss.fit(train_input)"
   ]
  },
  {
   "cell_type": "code",
   "execution_count": 43,
   "metadata": {},
   "outputs": [
    {
     "data": {
      "text/html": [
       "<div>\n",
       "<style scoped>\n",
       "    .dataframe tbody tr th:only-of-type {\n",
       "        vertical-align: middle;\n",
       "    }\n",
       "\n",
       "    .dataframe tbody tr th {\n",
       "        vertical-align: top;\n",
       "    }\n",
       "\n",
       "    .dataframe thead th {\n",
       "        text-align: right;\n",
       "    }\n",
       "</style>\n",
       "<table border=\"1\" class=\"dataframe\">\n",
       "  <thead>\n",
       "    <tr style=\"text-align: right;\">\n",
       "      <th></th>\n",
       "      <th>0</th>\n",
       "      <th>1</th>\n",
       "      <th>2</th>\n",
       "      <th>3</th>\n",
       "      <th>4</th>\n",
       "      <th>5</th>\n",
       "      <th>6</th>\n",
       "    </tr>\n",
       "  </thead>\n",
       "  <tbody>\n",
       "    <tr>\n",
       "      <th>0</th>\n",
       "      <td>1991.0</td>\n",
       "      <td>23056.40</td>\n",
       "      <td>5.37</td>\n",
       "      <td>2.025763</td>\n",
       "      <td>9.742500</td>\n",
       "      <td>16.541667</td>\n",
       "      <td>18.073333</td>\n",
       "    </tr>\n",
       "    <tr>\n",
       "      <th>1</th>\n",
       "      <td>2001.0</td>\n",
       "      <td>25726.42</td>\n",
       "      <td>6.19</td>\n",
       "      <td>1.795824</td>\n",
       "      <td>9.569167</td>\n",
       "      <td>16.582500</td>\n",
       "      <td>18.199167</td>\n",
       "    </tr>\n",
       "    <tr>\n",
       "      <th>2</th>\n",
       "      <td>1993.0</td>\n",
       "      <td>23124.00</td>\n",
       "      <td>5.54</td>\n",
       "      <td>1.934320</td>\n",
       "      <td>9.810000</td>\n",
       "      <td>16.402500</td>\n",
       "      <td>18.022500</td>\n",
       "    </tr>\n",
       "    <tr>\n",
       "      <th>3</th>\n",
       "      <td>1996.0</td>\n",
       "      <td>24214.92</td>\n",
       "      <td>5.79</td>\n",
       "      <td>1.896918</td>\n",
       "      <td>9.799167</td>\n",
       "      <td>16.461667</td>\n",
       "      <td>18.033333</td>\n",
       "    </tr>\n",
       "    <tr>\n",
       "      <th>4</th>\n",
       "      <td>2018.0</td>\n",
       "      <td>36441.55</td>\n",
       "      <td>7.60</td>\n",
       "      <td>1.380304</td>\n",
       "      <td>8.755000</td>\n",
       "      <td>16.884167</td>\n",
       "      <td>18.455833</td>\n",
       "    </tr>\n",
       "    <tr>\n",
       "      <th>5</th>\n",
       "      <td>2002.0</td>\n",
       "      <td>26486.63</td>\n",
       "      <td>6.27</td>\n",
       "      <td>1.752091</td>\n",
       "      <td>9.356667</td>\n",
       "      <td>16.645000</td>\n",
       "      <td>18.231667</td>\n",
       "    </tr>\n",
       "    <tr>\n",
       "      <th>6</th>\n",
       "      <td>2011.0</td>\n",
       "      <td>33226.01</td>\n",
       "      <td>7.00</td>\n",
       "      <td>1.336479</td>\n",
       "      <td>8.775833</td>\n",
       "      <td>16.620000</td>\n",
       "      <td>18.225833</td>\n",
       "    </tr>\n",
       "    <tr>\n",
       "      <th>7</th>\n",
       "      <td>1997.0</td>\n",
       "      <td>25292.92</td>\n",
       "      <td>5.87</td>\n",
       "      <td>1.935293</td>\n",
       "      <td>9.616667</td>\n",
       "      <td>16.588333</td>\n",
       "      <td>18.178333</td>\n",
       "    </tr>\n",
       "    <tr>\n",
       "      <th>8</th>\n",
       "      <td>2015.0</td>\n",
       "      <td>34521.91</td>\n",
       "      <td>7.35</td>\n",
       "      <td>1.510779</td>\n",
       "      <td>8.920833</td>\n",
       "      <td>16.845833</td>\n",
       "      <td>18.526667</td>\n",
       "    </tr>\n",
       "    <tr>\n",
       "      <th>9</th>\n",
       "      <td>2013.0</td>\n",
       "      <td>34217.18</td>\n",
       "      <td>7.18</td>\n",
       "      <td>1.364877</td>\n",
       "      <td>9.238333</td>\n",
       "      <td>16.678333</td>\n",
       "      <td>18.312500</td>\n",
       "    </tr>\n",
       "    <tr>\n",
       "      <th>10</th>\n",
       "      <td>2005.0</td>\n",
       "      <td>29663.75</td>\n",
       "      <td>6.51</td>\n",
       "      <td>1.672172</td>\n",
       "      <td>9.020833</td>\n",
       "      <td>16.691667</td>\n",
       "      <td>18.322500</td>\n",
       "    </tr>\n",
       "    <tr>\n",
       "      <th>11</th>\n",
       "      <td>2006.0</td>\n",
       "      <td>30905.93</td>\n",
       "      <td>6.59</td>\n",
       "      <td>1.620570</td>\n",
       "      <td>8.802500</td>\n",
       "      <td>16.681667</td>\n",
       "      <td>18.290000</td>\n",
       "    </tr>\n",
       "    <tr>\n",
       "      <th>12</th>\n",
       "      <td>1998.0</td>\n",
       "      <td>24895.32</td>\n",
       "      <td>5.95</td>\n",
       "      <td>1.830868</td>\n",
       "      <td>9.626667</td>\n",
       "      <td>16.685833</td>\n",
       "      <td>18.230833</td>\n",
       "    </tr>\n",
       "    <tr>\n",
       "      <th>13</th>\n",
       "      <td>2016.0</td>\n",
       "      <td>35160.60</td>\n",
       "      <td>7.43</td>\n",
       "      <td>1.383348</td>\n",
       "      <td>8.325000</td>\n",
       "      <td>16.997500</td>\n",
       "      <td>18.558333</td>\n",
       "    </tr>\n",
       "    <tr>\n",
       "      <th>14</th>\n",
       "      <td>2003.0</td>\n",
       "      <td>27308.37</td>\n",
       "      <td>6.35</td>\n",
       "      <td>1.714332</td>\n",
       "      <td>9.289167</td>\n",
       "      <td>16.645000</td>\n",
       "      <td>18.286667</td>\n",
       "    </tr>\n",
       "    <tr>\n",
       "      <th>15</th>\n",
       "      <td>2000.0</td>\n",
       "      <td>25637.87</td>\n",
       "      <td>6.11</td>\n",
       "      <td>1.750909</td>\n",
       "      <td>9.457500</td>\n",
       "      <td>16.460833</td>\n",
       "      <td>18.065833</td>\n",
       "    </tr>\n",
       "    <tr>\n",
       "      <th>16</th>\n",
       "      <td>1994.0</td>\n",
       "      <td>23260.29</td>\n",
       "      <td>5.62</td>\n",
       "      <td>1.974827</td>\n",
       "      <td>9.989167</td>\n",
       "      <td>16.380000</td>\n",
       "      <td>18.030000</td>\n",
       "    </tr>\n",
       "    <tr>\n",
       "      <th>17</th>\n",
       "      <td>2008.0</td>\n",
       "      <td>31856.76</td>\n",
       "      <td>6.76</td>\n",
       "      <td>1.543778</td>\n",
       "      <td>9.235000</td>\n",
       "      <td>16.538333</td>\n",
       "      <td>18.224167</td>\n",
       "    </tr>\n",
       "    <tr>\n",
       "      <th>18</th>\n",
       "      <td>2009.0</td>\n",
       "      <td>31769.89</td>\n",
       "      <td>6.84</td>\n",
       "      <td>1.521169</td>\n",
       "      <td>9.236667</td>\n",
       "      <td>16.686667</td>\n",
       "      <td>18.329167</td>\n",
       "    </tr>\n",
       "    <tr>\n",
       "      <th>19</th>\n",
       "      <td>1999.0</td>\n",
       "      <td>24957.30</td>\n",
       "      <td>6.03</td>\n",
       "      <td>1.770938</td>\n",
       "      <td>9.693333</td>\n",
       "      <td>16.413333</td>\n",
       "      <td>18.031667</td>\n",
       "    </tr>\n",
       "    <tr>\n",
       "      <th>20</th>\n",
       "      <td>2017.0</td>\n",
       "      <td>35588.70</td>\n",
       "      <td>7.52</td>\n",
       "      <td>1.293283</td>\n",
       "      <td>8.706667</td>\n",
       "      <td>16.932500</td>\n",
       "      <td>18.505833</td>\n",
       "    </tr>\n",
       "  </tbody>\n",
       "</table>\n",
       "</div>"
      ],
      "text/plain": [
       "         0         1     2         3         4          5          6\n",
       "0   1991.0  23056.40  5.37  2.025763  9.742500  16.541667  18.073333\n",
       "1   2001.0  25726.42  6.19  1.795824  9.569167  16.582500  18.199167\n",
       "2   1993.0  23124.00  5.54  1.934320  9.810000  16.402500  18.022500\n",
       "3   1996.0  24214.92  5.79  1.896918  9.799167  16.461667  18.033333\n",
       "4   2018.0  36441.55  7.60  1.380304  8.755000  16.884167  18.455833\n",
       "5   2002.0  26486.63  6.27  1.752091  9.356667  16.645000  18.231667\n",
       "6   2011.0  33226.01  7.00  1.336479  8.775833  16.620000  18.225833\n",
       "7   1997.0  25292.92  5.87  1.935293  9.616667  16.588333  18.178333\n",
       "8   2015.0  34521.91  7.35  1.510779  8.920833  16.845833  18.526667\n",
       "9   2013.0  34217.18  7.18  1.364877  9.238333  16.678333  18.312500\n",
       "10  2005.0  29663.75  6.51  1.672172  9.020833  16.691667  18.322500\n",
       "11  2006.0  30905.93  6.59  1.620570  8.802500  16.681667  18.290000\n",
       "12  1998.0  24895.32  5.95  1.830868  9.626667  16.685833  18.230833\n",
       "13  2016.0  35160.60  7.43  1.383348  8.325000  16.997500  18.558333\n",
       "14  2003.0  27308.37  6.35  1.714332  9.289167  16.645000  18.286667\n",
       "15  2000.0  25637.87  6.11  1.750909  9.457500  16.460833  18.065833\n",
       "16  1994.0  23260.29  5.62  1.974827  9.989167  16.380000  18.030000\n",
       "17  2008.0  31856.76  6.76  1.543778  9.235000  16.538333  18.224167\n",
       "18  2009.0  31769.89  6.84  1.521169  9.236667  16.686667  18.329167\n",
       "19  1999.0  24957.30  6.03  1.770938  9.693333  16.413333  18.031667\n",
       "20  2017.0  35588.70  7.52  1.293283  8.706667  16.932500  18.505833"
      ]
     },
     "execution_count": 43,
     "metadata": {},
     "output_type": "execute_result"
    }
   ],
   "source": [
    "#pd.DataFrame(train_input)"
   ]
  },
  {
   "cell_type": "code",
   "execution_count": 48,
   "metadata": {},
   "outputs": [],
   "source": [
    "train_scaled = ss.transform(train_input)\n",
    "test_scaled = ss.transform(test_input)"
   ]
  },
  {
   "cell_type": "code",
   "execution_count": 49,
   "metadata": {},
   "outputs": [
    {
     "name": "stdout",
     "output_type": "stream",
     "text": [
      "train score : 0.9746458248275803\n",
      "test score : 0.9612007330713133\n",
      "교차검증 점수: [0.95159942 0.98074496 0.97208687 0.98749784 0.96093544 0.79948409]\n",
      "교차검증 점수 평균: 0.9420581050286608\n"
     ]
    }
   ],
   "source": [
    "\n",
    "\n",
    "ridge = Ridge(alpha=1.5)\n",
    "ridge.fit(train_scaled,train_target)\n",
    "print(\"train score :\",ridge.score(train_scaled,train_target))\n",
    "print(\"test score :\",ridge.score(test_scaled,test_target))\n",
    "scores = cross_val_score(ridge, train_scaled, train_target, cv=6)\n",
    "print(f\"교차검증 점수: {scores}\")\n",
    "print(f\"교차검증 점수 평균: {scores.mean()}\")"
   ]
  },
  {
   "cell_type": "code",
   "execution_count": 50,
   "metadata": {},
   "outputs": [
    {
     "data": {
      "text/plain": [
       "['model_with_scaler.sea']"
      ]
     },
     "execution_count": 50,
     "metadata": {},
     "output_type": "execute_result"
    }
   ],
   "source": [
    "import joblib\n",
    "\n",
    "\n",
    "joblib.dump((ss, ridge), 'model_with_scaler.sea')"
   ]
  },
  {
   "cell_type": "code",
   "execution_count": 29,
   "metadata": {},
   "outputs": [
    {
     "data": {
      "text/html": [
       "<div>\n",
       "<style scoped>\n",
       "    .dataframe tbody tr th:only-of-type {\n",
       "        vertical-align: middle;\n",
       "    }\n",
       "\n",
       "    .dataframe tbody tr th {\n",
       "        vertical-align: top;\n",
       "    }\n",
       "\n",
       "    .dataframe thead th {\n",
       "        text-align: right;\n",
       "    }\n",
       "</style>\n",
       "<table border=\"1\" class=\"dataframe\">\n",
       "  <thead>\n",
       "    <tr style=\"text-align: right;\">\n",
       "      <th></th>\n",
       "      <th>Year</th>\n",
       "      <th>sealevel</th>\n",
       "      <th>co2</th>\n",
       "      <th>Population</th>\n",
       "      <th>Thickness</th>\n",
       "      <th>북극 해빙면적 평균</th>\n",
       "      <th>해상 평균 온도</th>\n",
       "      <th>지구 평균 온도</th>\n",
       "      <th>평균 해상 강수량</th>\n",
       "    </tr>\n",
       "  </thead>\n",
       "  <tbody>\n",
       "    <tr>\n",
       "      <th>0</th>\n",
       "      <td>1990</td>\n",
       "      <td>-22.847396</td>\n",
       "      <td>22849.92</td>\n",
       "      <td>5.28</td>\n",
       "      <td>2.035898</td>\n",
       "      <td>9.668333</td>\n",
       "      <td>16.578333</td>\n",
       "      <td>18.078333</td>\n",
       "      <td>93.641667</td>\n",
       "    </tr>\n",
       "    <tr>\n",
       "      <th>1</th>\n",
       "      <td>1991</td>\n",
       "      <td>-22.814062</td>\n",
       "      <td>23056.40</td>\n",
       "      <td>5.37</td>\n",
       "      <td>2.025763</td>\n",
       "      <td>9.742500</td>\n",
       "      <td>16.541667</td>\n",
       "      <td>18.073333</td>\n",
       "      <td>93.216667</td>\n",
       "    </tr>\n",
       "    <tr>\n",
       "      <th>2</th>\n",
       "      <td>1992</td>\n",
       "      <td>-20.247396</td>\n",
       "      <td>22988.29</td>\n",
       "      <td>5.45</td>\n",
       "      <td>2.024229</td>\n",
       "      <td>10.099167</td>\n",
       "      <td>16.380000</td>\n",
       "      <td>18.010000</td>\n",
       "      <td>93.225000</td>\n",
       "    </tr>\n",
       "    <tr>\n",
       "      <th>3</th>\n",
       "      <td>1993</td>\n",
       "      <td>-22.780729</td>\n",
       "      <td>23124.00</td>\n",
       "      <td>5.54</td>\n",
       "      <td>1.934320</td>\n",
       "      <td>9.810000</td>\n",
       "      <td>16.402500</td>\n",
       "      <td>18.022500</td>\n",
       "      <td>92.508333</td>\n",
       "    </tr>\n",
       "    <tr>\n",
       "      <th>4</th>\n",
       "      <td>1994</td>\n",
       "      <td>-17.980729</td>\n",
       "      <td>23260.29</td>\n",
       "      <td>5.62</td>\n",
       "      <td>1.974827</td>\n",
       "      <td>9.989167</td>\n",
       "      <td>16.380000</td>\n",
       "      <td>18.030000</td>\n",
       "      <td>92.841667</td>\n",
       "    </tr>\n",
       "  </tbody>\n",
       "</table>\n",
       "</div>"
      ],
      "text/plain": [
       "   Year   sealevel       co2   Population  Thickness  북극 해빙면적 평균   해상 평균 온도  \\\n",
       "0  1990 -22.847396  22849.92         5.28   2.035898    9.668333  16.578333   \n",
       "1  1991 -22.814062  23056.40         5.37   2.025763    9.742500  16.541667   \n",
       "2  1992 -20.247396  22988.29         5.45   2.024229   10.099167  16.380000   \n",
       "3  1993 -22.780729  23124.00         5.54   1.934320    9.810000  16.402500   \n",
       "4  1994 -17.980729  23260.29         5.62   1.974827    9.989167  16.380000   \n",
       "\n",
       "    지구 평균 온도  평균 해상 강수량  \n",
       "0  18.078333  93.641667  \n",
       "1  18.073333  93.216667  \n",
       "2  18.010000  93.225000  \n",
       "3  18.022500  92.508333  \n",
       "4  18.030000  92.841667  "
      ]
     },
     "execution_count": 29,
     "metadata": {},
     "output_type": "execute_result"
    }
   ],
   "source": [
    "data.head()"
   ]
  },
  {
   "cell_type": "code",
   "execution_count": 30,
   "metadata": {},
   "outputs": [
    {
     "data": {
      "text/html": [
       "<div>\n",
       "<style scoped>\n",
       "    .dataframe tbody tr th:only-of-type {\n",
       "        vertical-align: middle;\n",
       "    }\n",
       "\n",
       "    .dataframe tbody tr th {\n",
       "        vertical-align: top;\n",
       "    }\n",
       "\n",
       "    .dataframe thead th {\n",
       "        text-align: right;\n",
       "    }\n",
       "</style>\n",
       "<table border=\"1\" class=\"dataframe\">\n",
       "  <thead>\n",
       "    <tr style=\"text-align: right;\">\n",
       "      <th></th>\n",
       "      <th>Year</th>\n",
       "      <th>sealevel</th>\n",
       "      <th>co2</th>\n",
       "      <th>Population</th>\n",
       "      <th>Thickness</th>\n",
       "      <th>북극 해빙면적 평균</th>\n",
       "      <th>해상 평균 온도</th>\n",
       "      <th>지구 평균 온도</th>\n",
       "    </tr>\n",
       "  </thead>\n",
       "  <tbody>\n",
       "    <tr>\n",
       "      <th>0</th>\n",
       "      <td>1990</td>\n",
       "      <td>-22.847396</td>\n",
       "      <td>22849.92</td>\n",
       "      <td>5.28</td>\n",
       "      <td>2.035898</td>\n",
       "      <td>9.668333</td>\n",
       "      <td>16.578333</td>\n",
       "      <td>18.078333</td>\n",
       "    </tr>\n",
       "    <tr>\n",
       "      <th>1</th>\n",
       "      <td>1991</td>\n",
       "      <td>-22.814062</td>\n",
       "      <td>23056.40</td>\n",
       "      <td>5.37</td>\n",
       "      <td>2.025763</td>\n",
       "      <td>9.742500</td>\n",
       "      <td>16.541667</td>\n",
       "      <td>18.073333</td>\n",
       "    </tr>\n",
       "    <tr>\n",
       "      <th>2</th>\n",
       "      <td>1992</td>\n",
       "      <td>-20.247396</td>\n",
       "      <td>22988.29</td>\n",
       "      <td>5.45</td>\n",
       "      <td>2.024229</td>\n",
       "      <td>10.099167</td>\n",
       "      <td>16.380000</td>\n",
       "      <td>18.010000</td>\n",
       "    </tr>\n",
       "    <tr>\n",
       "      <th>3</th>\n",
       "      <td>1993</td>\n",
       "      <td>-22.780729</td>\n",
       "      <td>23124.00</td>\n",
       "      <td>5.54</td>\n",
       "      <td>1.934320</td>\n",
       "      <td>9.810000</td>\n",
       "      <td>16.402500</td>\n",
       "      <td>18.022500</td>\n",
       "    </tr>\n",
       "    <tr>\n",
       "      <th>4</th>\n",
       "      <td>1994</td>\n",
       "      <td>-17.980729</td>\n",
       "      <td>23260.29</td>\n",
       "      <td>5.62</td>\n",
       "      <td>1.974827</td>\n",
       "      <td>9.989167</td>\n",
       "      <td>16.380000</td>\n",
       "      <td>18.030000</td>\n",
       "    </tr>\n",
       "  </tbody>\n",
       "</table>\n",
       "</div>"
      ],
      "text/plain": [
       "   Year   sealevel       co2   Population  Thickness  북극 해빙면적 평균   해상 평균 온도  \\\n",
       "0  1990 -22.847396  22849.92         5.28   2.035898    9.668333  16.578333   \n",
       "1  1991 -22.814062  23056.40         5.37   2.025763    9.742500  16.541667   \n",
       "2  1992 -20.247396  22988.29         5.45   2.024229   10.099167  16.380000   \n",
       "3  1993 -22.780729  23124.00         5.54   1.934320    9.810000  16.402500   \n",
       "4  1994 -17.980729  23260.29         5.62   1.974827    9.989167  16.380000   \n",
       "\n",
       "    지구 평균 온도  \n",
       "0  18.078333  \n",
       "1  18.073333  \n",
       "2  18.010000  \n",
       "3  18.022500  \n",
       "4  18.030000  "
      ]
     },
     "execution_count": 30,
     "metadata": {},
     "output_type": "execute_result"
    }
   ],
   "source": [
    "data2.head()"
   ]
  },
  {
   "cell_type": "code",
   "execution_count": 31,
   "metadata": {},
   "outputs": [
    {
     "data": {
      "text/plain": [
       "['model.sea']"
      ]
     },
     "execution_count": 31,
     "metadata": {},
     "output_type": "execute_result"
    }
   ],
   "source": [
    "from joblib import dump, load\n",
    "\n",
    "# 모델 저장\n",
    "dump(ridge, 'model.sea')\n",
    "\n",
    "# 모델 불러오기\n",
    "#model = load('model.joblib')"
   ]
  },
  {
   "cell_type": "code",
   "execution_count": 32,
   "metadata": {},
   "outputs": [],
   "source": [
    "from joblib import dump, load\n"
   ]
  },
  {
   "cell_type": "code",
   "execution_count": 33,
   "metadata": {},
   "outputs": [],
   "source": [
    "model = load('model.sea')"
   ]
  },
  {
   "cell_type": "code",
   "execution_count": 36,
   "metadata": {},
   "outputs": [
    {
     "data": {
      "text/plain": [
       "array([58.14745421])"
      ]
     },
     "execution_count": 36,
     "metadata": {},
     "output_type": "execute_result"
    }
   ],
   "source": [
    "model.predict(new_data_scaled)"
   ]
  },
  {
   "cell_type": "code",
   "execution_count": 35,
   "metadata": {},
   "outputs": [
    {
     "data": {
      "text/plain": [
       "array([58.14745421])"
      ]
     },
     "execution_count": 35,
     "metadata": {},
     "output_type": "execute_result"
    }
   ],
   "source": [
    "pre_data = [[2019,38000,7.68,1.39,8.752000,16.9,18.47]]\n",
    "new_data_scaled = ss.transform(pre_data)\n",
    "ridge.predict(new_data_scaled)"
   ]
  },
  {
   "cell_type": "code",
   "execution_count": null,
   "metadata": {},
   "outputs": [
    {
     "data": {
      "text/plain": [
       "61.393713"
      ]
     },
     "execution_count": 198,
     "metadata": {},
     "output_type": "execute_result"
    }
   ],
   "source": [
    "61.393713\t"
   ]
  },
  {
   "cell_type": "code",
   "execution_count": null,
   "metadata": {},
   "outputs": [
    {
     "data": {
      "text/html": [
       "<div>\n",
       "<style scoped>\n",
       "    .dataframe tbody tr th:only-of-type {\n",
       "        vertical-align: middle;\n",
       "    }\n",
       "\n",
       "    .dataframe tbody tr th {\n",
       "        vertical-align: top;\n",
       "    }\n",
       "\n",
       "    .dataframe thead th {\n",
       "        text-align: right;\n",
       "    }\n",
       "</style>\n",
       "<table border=\"1\" class=\"dataframe\">\n",
       "  <thead>\n",
       "    <tr style=\"text-align: right;\">\n",
       "      <th></th>\n",
       "      <th>Year</th>\n",
       "      <th>sealevel</th>\n",
       "      <th>co2</th>\n",
       "      <th>Population</th>\n",
       "      <th>Thickness</th>\n",
       "      <th>북극 해빙면적 평균</th>\n",
       "      <th>해상 평균 온도</th>\n",
       "      <th>지구 평균 온도</th>\n",
       "      <th>평균 해상 강수량</th>\n",
       "    </tr>\n",
       "  </thead>\n",
       "  <tbody>\n",
       "    <tr>\n",
       "      <th>0</th>\n",
       "      <td>1990</td>\n",
       "      <td>-22.847396</td>\n",
       "      <td>22849.92</td>\n",
       "      <td>5.28</td>\n",
       "      <td>2.035898</td>\n",
       "      <td>9.668333</td>\n",
       "      <td>16.578333</td>\n",
       "      <td>18.078333</td>\n",
       "      <td>93.641667</td>\n",
       "    </tr>\n",
       "    <tr>\n",
       "      <th>1</th>\n",
       "      <td>1991</td>\n",
       "      <td>-22.814062</td>\n",
       "      <td>23056.40</td>\n",
       "      <td>5.37</td>\n",
       "      <td>2.025763</td>\n",
       "      <td>9.742500</td>\n",
       "      <td>16.541667</td>\n",
       "      <td>18.073333</td>\n",
       "      <td>93.216667</td>\n",
       "    </tr>\n",
       "    <tr>\n",
       "      <th>2</th>\n",
       "      <td>1992</td>\n",
       "      <td>-20.247396</td>\n",
       "      <td>22988.29</td>\n",
       "      <td>5.45</td>\n",
       "      <td>2.024229</td>\n",
       "      <td>10.099167</td>\n",
       "      <td>16.380000</td>\n",
       "      <td>18.010000</td>\n",
       "      <td>93.225000</td>\n",
       "    </tr>\n",
       "    <tr>\n",
       "      <th>3</th>\n",
       "      <td>1993</td>\n",
       "      <td>-22.780729</td>\n",
       "      <td>23124.00</td>\n",
       "      <td>5.54</td>\n",
       "      <td>1.934320</td>\n",
       "      <td>9.810000</td>\n",
       "      <td>16.402500</td>\n",
       "      <td>18.022500</td>\n",
       "      <td>92.508333</td>\n",
       "    </tr>\n",
       "    <tr>\n",
       "      <th>4</th>\n",
       "      <td>1994</td>\n",
       "      <td>-17.980729</td>\n",
       "      <td>23260.29</td>\n",
       "      <td>5.62</td>\n",
       "      <td>1.974827</td>\n",
       "      <td>9.989167</td>\n",
       "      <td>16.380000</td>\n",
       "      <td>18.030000</td>\n",
       "      <td>92.841667</td>\n",
       "    </tr>\n",
       "    <tr>\n",
       "      <th>5</th>\n",
       "      <td>1996</td>\n",
       "      <td>-11.947396</td>\n",
       "      <td>24214.92</td>\n",
       "      <td>5.79</td>\n",
       "      <td>1.896918</td>\n",
       "      <td>9.799167</td>\n",
       "      <td>16.461667</td>\n",
       "      <td>18.033333</td>\n",
       "      <td>93.675000</td>\n",
       "    </tr>\n",
       "    <tr>\n",
       "      <th>6</th>\n",
       "      <td>1997</td>\n",
       "      <td>-2.647396</td>\n",
       "      <td>25292.92</td>\n",
       "      <td>5.87</td>\n",
       "      <td>1.935293</td>\n",
       "      <td>9.616667</td>\n",
       "      <td>16.588333</td>\n",
       "      <td>18.178333</td>\n",
       "      <td>96.033333</td>\n",
       "    </tr>\n",
       "    <tr>\n",
       "      <th>7</th>\n",
       "      <td>1998</td>\n",
       "      <td>-10.814063</td>\n",
       "      <td>24895.32</td>\n",
       "      <td>5.95</td>\n",
       "      <td>1.830868</td>\n",
       "      <td>9.626667</td>\n",
       "      <td>16.685833</td>\n",
       "      <td>18.230833</td>\n",
       "      <td>96.666667</td>\n",
       "    </tr>\n",
       "    <tr>\n",
       "      <th>8</th>\n",
       "      <td>1999</td>\n",
       "      <td>-0.247396</td>\n",
       "      <td>24957.30</td>\n",
       "      <td>6.03</td>\n",
       "      <td>1.770938</td>\n",
       "      <td>9.693333</td>\n",
       "      <td>16.413333</td>\n",
       "      <td>18.031667</td>\n",
       "      <td>93.850000</td>\n",
       "    </tr>\n",
       "    <tr>\n",
       "      <th>9</th>\n",
       "      <td>2000</td>\n",
       "      <td>2.952604</td>\n",
       "      <td>25637.87</td>\n",
       "      <td>6.11</td>\n",
       "      <td>1.750909</td>\n",
       "      <td>9.457500</td>\n",
       "      <td>16.460833</td>\n",
       "      <td>18.065833</td>\n",
       "      <td>96.416667</td>\n",
       "    </tr>\n",
       "    <tr>\n",
       "      <th>10</th>\n",
       "      <td>2001</td>\n",
       "      <td>4.719271</td>\n",
       "      <td>25726.42</td>\n",
       "      <td>6.19</td>\n",
       "      <td>1.795824</td>\n",
       "      <td>9.569167</td>\n",
       "      <td>16.582500</td>\n",
       "      <td>18.199167</td>\n",
       "      <td>97.475000</td>\n",
       "    </tr>\n",
       "    <tr>\n",
       "      <th>11</th>\n",
       "      <td>2002</td>\n",
       "      <td>2.152604</td>\n",
       "      <td>26486.63</td>\n",
       "      <td>6.27</td>\n",
       "      <td>1.752091</td>\n",
       "      <td>9.356667</td>\n",
       "      <td>16.645000</td>\n",
       "      <td>18.231667</td>\n",
       "      <td>98.933333</td>\n",
       "    </tr>\n",
       "    <tr>\n",
       "      <th>12</th>\n",
       "      <td>2003</td>\n",
       "      <td>14.619271</td>\n",
       "      <td>27308.37</td>\n",
       "      <td>6.35</td>\n",
       "      <td>1.714332</td>\n",
       "      <td>9.289167</td>\n",
       "      <td>16.645000</td>\n",
       "      <td>18.286667</td>\n",
       "      <td>98.841667</td>\n",
       "    </tr>\n",
       "    <tr>\n",
       "      <th>13</th>\n",
       "      <td>2004</td>\n",
       "      <td>13.652604</td>\n",
       "      <td>28826.48</td>\n",
       "      <td>6.43</td>\n",
       "      <td>1.688927</td>\n",
       "      <td>9.367500</td>\n",
       "      <td>16.633333</td>\n",
       "      <td>18.244167</td>\n",
       "      <td>98.766667</td>\n",
       "    </tr>\n",
       "    <tr>\n",
       "      <th>14</th>\n",
       "      <td>2005</td>\n",
       "      <td>12.119271</td>\n",
       "      <td>29663.75</td>\n",
       "      <td>6.51</td>\n",
       "      <td>1.672172</td>\n",
       "      <td>9.020833</td>\n",
       "      <td>16.691667</td>\n",
       "      <td>18.322500</td>\n",
       "      <td>98.300000</td>\n",
       "    </tr>\n",
       "    <tr>\n",
       "      <th>15</th>\n",
       "      <td>2006</td>\n",
       "      <td>9.519271</td>\n",
       "      <td>30905.93</td>\n",
       "      <td>6.59</td>\n",
       "      <td>1.620570</td>\n",
       "      <td>8.802500</td>\n",
       "      <td>16.681667</td>\n",
       "      <td>18.290000</td>\n",
       "      <td>98.000000</td>\n",
       "    </tr>\n",
       "    <tr>\n",
       "      <th>16</th>\n",
       "      <td>2007</td>\n",
       "      <td>22.785937</td>\n",
       "      <td>31608.28</td>\n",
       "      <td>6.67</td>\n",
       "      <td>1.550804</td>\n",
       "      <td>8.460000</td>\n",
       "      <td>16.594167</td>\n",
       "      <td>18.245000</td>\n",
       "      <td>98.566667</td>\n",
       "    </tr>\n",
       "    <tr>\n",
       "      <th>17</th>\n",
       "      <td>2008</td>\n",
       "      <td>30.452604</td>\n",
       "      <td>31856.76</td>\n",
       "      <td>6.76</td>\n",
       "      <td>1.543778</td>\n",
       "      <td>9.235000</td>\n",
       "      <td>16.538333</td>\n",
       "      <td>18.224167</td>\n",
       "      <td>97.383333</td>\n",
       "    </tr>\n",
       "    <tr>\n",
       "      <th>18</th>\n",
       "      <td>2009</td>\n",
       "      <td>33.652604</td>\n",
       "      <td>31769.89</td>\n",
       "      <td>6.84</td>\n",
       "      <td>1.521169</td>\n",
       "      <td>9.236667</td>\n",
       "      <td>16.686667</td>\n",
       "      <td>18.329167</td>\n",
       "      <td>98.633333</td>\n",
       "    </tr>\n",
       "    <tr>\n",
       "      <th>19</th>\n",
       "      <td>2010</td>\n",
       "      <td>33.878240</td>\n",
       "      <td>33328.38</td>\n",
       "      <td>6.92</td>\n",
       "      <td>1.378012</td>\n",
       "      <td>8.980000</td>\n",
       "      <td>16.718333</td>\n",
       "      <td>18.337500</td>\n",
       "      <td>98.258333</td>\n",
       "    </tr>\n",
       "    <tr>\n",
       "      <th>20</th>\n",
       "      <td>2011</td>\n",
       "      <td>36.718471</td>\n",
       "      <td>33226.01</td>\n",
       "      <td>7.00</td>\n",
       "      <td>1.336479</td>\n",
       "      <td>8.775833</td>\n",
       "      <td>16.620000</td>\n",
       "      <td>18.225833</td>\n",
       "      <td>97.583333</td>\n",
       "    </tr>\n",
       "    <tr>\n",
       "      <th>21</th>\n",
       "      <td>2012</td>\n",
       "      <td>47.173903</td>\n",
       "      <td>33620.34</td>\n",
       "      <td>7.09</td>\n",
       "      <td>1.335562</td>\n",
       "      <td>8.661667</td>\n",
       "      <td>16.681667</td>\n",
       "      <td>18.284167</td>\n",
       "      <td>97.991667</td>\n",
       "    </tr>\n",
       "    <tr>\n",
       "      <th>22</th>\n",
       "      <td>2013</td>\n",
       "      <td>41.337987</td>\n",
       "      <td>34217.18</td>\n",
       "      <td>7.18</td>\n",
       "      <td>1.364877</td>\n",
       "      <td>9.238333</td>\n",
       "      <td>16.678333</td>\n",
       "      <td>18.312500</td>\n",
       "      <td>97.741667</td>\n",
       "    </tr>\n",
       "    <tr>\n",
       "      <th>23</th>\n",
       "      <td>2014</td>\n",
       "      <td>53.857372</td>\n",
       "      <td>34558.59</td>\n",
       "      <td>7.26</td>\n",
       "      <td>1.503155</td>\n",
       "      <td>9.105000</td>\n",
       "      <td>16.749167</td>\n",
       "      <td>18.420833</td>\n",
       "      <td>98.700000</td>\n",
       "    </tr>\n",
       "    <tr>\n",
       "      <th>24</th>\n",
       "      <td>2015</td>\n",
       "      <td>50.461706</td>\n",
       "      <td>34521.91</td>\n",
       "      <td>7.35</td>\n",
       "      <td>1.510779</td>\n",
       "      <td>8.920833</td>\n",
       "      <td>16.845833</td>\n",
       "      <td>18.526667</td>\n",
       "      <td>100.175000</td>\n",
       "    </tr>\n",
       "    <tr>\n",
       "      <th>25</th>\n",
       "      <td>2016</td>\n",
       "      <td>54.346964</td>\n",
       "      <td>35160.60</td>\n",
       "      <td>7.43</td>\n",
       "      <td>1.383348</td>\n",
       "      <td>8.325000</td>\n",
       "      <td>16.997500</td>\n",
       "      <td>18.558333</td>\n",
       "      <td>99.825000</td>\n",
       "    </tr>\n",
       "    <tr>\n",
       "      <th>26</th>\n",
       "      <td>2017</td>\n",
       "      <td>57.355991</td>\n",
       "      <td>35588.70</td>\n",
       "      <td>7.52</td>\n",
       "      <td>1.293283</td>\n",
       "      <td>8.706667</td>\n",
       "      <td>16.932500</td>\n",
       "      <td>18.505833</td>\n",
       "      <td>98.466667</td>\n",
       "    </tr>\n",
       "    <tr>\n",
       "      <th>27</th>\n",
       "      <td>2018</td>\n",
       "      <td>53.085122</td>\n",
       "      <td>36441.55</td>\n",
       "      <td>7.60</td>\n",
       "      <td>1.380304</td>\n",
       "      <td>8.755000</td>\n",
       "      <td>16.884167</td>\n",
       "      <td>18.455833</td>\n",
       "      <td>98.741667</td>\n",
       "    </tr>\n",
       "  </tbody>\n",
       "</table>\n",
       "</div>"
      ],
      "text/plain": [
       "    Year   sealevel       co2   Population  Thickness  북극 해빙면적 평균   해상 평균 온도  \\\n",
       "0   1990 -22.847396  22849.92         5.28   2.035898    9.668333  16.578333   \n",
       "1   1991 -22.814062  23056.40         5.37   2.025763    9.742500  16.541667   \n",
       "2   1992 -20.247396  22988.29         5.45   2.024229   10.099167  16.380000   \n",
       "3   1993 -22.780729  23124.00         5.54   1.934320    9.810000  16.402500   \n",
       "4   1994 -17.980729  23260.29         5.62   1.974827    9.989167  16.380000   \n",
       "5   1996 -11.947396  24214.92         5.79   1.896918    9.799167  16.461667   \n",
       "6   1997  -2.647396  25292.92         5.87   1.935293    9.616667  16.588333   \n",
       "7   1998 -10.814063  24895.32         5.95   1.830868    9.626667  16.685833   \n",
       "8   1999  -0.247396  24957.30         6.03   1.770938    9.693333  16.413333   \n",
       "9   2000   2.952604  25637.87         6.11   1.750909    9.457500  16.460833   \n",
       "10  2001   4.719271  25726.42         6.19   1.795824    9.569167  16.582500   \n",
       "11  2002   2.152604  26486.63         6.27   1.752091    9.356667  16.645000   \n",
       "12  2003  14.619271  27308.37         6.35   1.714332    9.289167  16.645000   \n",
       "13  2004  13.652604  28826.48         6.43   1.688927    9.367500  16.633333   \n",
       "14  2005  12.119271  29663.75         6.51   1.672172    9.020833  16.691667   \n",
       "15  2006   9.519271  30905.93         6.59   1.620570    8.802500  16.681667   \n",
       "16  2007  22.785937  31608.28         6.67   1.550804    8.460000  16.594167   \n",
       "17  2008  30.452604  31856.76         6.76   1.543778    9.235000  16.538333   \n",
       "18  2009  33.652604  31769.89         6.84   1.521169    9.236667  16.686667   \n",
       "19  2010  33.878240  33328.38         6.92   1.378012    8.980000  16.718333   \n",
       "20  2011  36.718471  33226.01         7.00   1.336479    8.775833  16.620000   \n",
       "21  2012  47.173903  33620.34         7.09   1.335562    8.661667  16.681667   \n",
       "22  2013  41.337987  34217.18         7.18   1.364877    9.238333  16.678333   \n",
       "23  2014  53.857372  34558.59         7.26   1.503155    9.105000  16.749167   \n",
       "24  2015  50.461706  34521.91         7.35   1.510779    8.920833  16.845833   \n",
       "25  2016  54.346964  35160.60         7.43   1.383348    8.325000  16.997500   \n",
       "26  2017  57.355991  35588.70         7.52   1.293283    8.706667  16.932500   \n",
       "27  2018  53.085122  36441.55         7.60   1.380304    8.755000  16.884167   \n",
       "\n",
       "     지구 평균 온도   평균 해상 강수량  \n",
       "0   18.078333   93.641667  \n",
       "1   18.073333   93.216667  \n",
       "2   18.010000   93.225000  \n",
       "3   18.022500   92.508333  \n",
       "4   18.030000   92.841667  \n",
       "5   18.033333   93.675000  \n",
       "6   18.178333   96.033333  \n",
       "7   18.230833   96.666667  \n",
       "8   18.031667   93.850000  \n",
       "9   18.065833   96.416667  \n",
       "10  18.199167   97.475000  \n",
       "11  18.231667   98.933333  \n",
       "12  18.286667   98.841667  \n",
       "13  18.244167   98.766667  \n",
       "14  18.322500   98.300000  \n",
       "15  18.290000   98.000000  \n",
       "16  18.245000   98.566667  \n",
       "17  18.224167   97.383333  \n",
       "18  18.329167   98.633333  \n",
       "19  18.337500   98.258333  \n",
       "20  18.225833   97.583333  \n",
       "21  18.284167   97.991667  \n",
       "22  18.312500   97.741667  \n",
       "23  18.420833   98.700000  \n",
       "24  18.526667  100.175000  \n",
       "25  18.558333   99.825000  \n",
       "26  18.505833   98.466667  \n",
       "27  18.455833   98.741667  "
      ]
     },
     "execution_count": 199,
     "metadata": {},
     "output_type": "execute_result"
    }
   ],
   "source": [
    "data"
   ]
  },
  {
   "cell_type": "code",
   "execution_count": null,
   "metadata": {},
   "outputs": [
    {
     "name": "stdout",
     "output_type": "stream",
     "text": [
      "[ 7.01810448  4.51799813  7.21597468 -5.30427605  1.42538265  0.89767033\n",
      "  2.97757316]\n",
      "16.089378651285656\n"
     ]
    }
   ],
   "source": [
    "print(ridge.coef_)  \n",
    "print(ridge.intercept_)"
   ]
  },
  {
   "cell_type": "code",
   "execution_count": null,
   "metadata": {},
   "outputs": [],
   "source": [
    "tar = data['sealevel'].values\n",
    "fea = data[' Population'].values"
   ]
  },
  {
   "cell_type": "code",
   "execution_count": null,
   "metadata": {},
   "outputs": [],
   "source": [
    "train_input, test_input, train_target, test_target = \\\n",
    "    train_test_split(fea, tar)"
   ]
  },
  {
   "cell_type": "code",
   "execution_count": null,
   "metadata": {},
   "outputs": [],
   "source": [
    "# 1열로 구성된 배열로 재구성\n",
    "train_input = train_input.reshape(-1,1)\n",
    "test_input = test_input.reshape(-1,1)"
   ]
  },
  {
   "cell_type": "code",
   "execution_count": null,
   "metadata": {},
   "outputs": [
    {
     "data": {
      "text/html": [
       "<style>#sk-container-id-19 {color: black;background-color: white;}#sk-container-id-19 pre{padding: 0;}#sk-container-id-19 div.sk-toggleable {background-color: white;}#sk-container-id-19 label.sk-toggleable__label {cursor: pointer;display: block;width: 100%;margin-bottom: 0;padding: 0.3em;box-sizing: border-box;text-align: center;}#sk-container-id-19 label.sk-toggleable__label-arrow:before {content: \"▸\";float: left;margin-right: 0.25em;color: #696969;}#sk-container-id-19 label.sk-toggleable__label-arrow:hover:before {color: black;}#sk-container-id-19 div.sk-estimator:hover label.sk-toggleable__label-arrow:before {color: black;}#sk-container-id-19 div.sk-toggleable__content {max-height: 0;max-width: 0;overflow: hidden;text-align: left;background-color: #f0f8ff;}#sk-container-id-19 div.sk-toggleable__content pre {margin: 0.2em;color: black;border-radius: 0.25em;background-color: #f0f8ff;}#sk-container-id-19 input.sk-toggleable__control:checked~div.sk-toggleable__content {max-height: 200px;max-width: 100%;overflow: auto;}#sk-container-id-19 input.sk-toggleable__control:checked~label.sk-toggleable__label-arrow:before {content: \"▾\";}#sk-container-id-19 div.sk-estimator input.sk-toggleable__control:checked~label.sk-toggleable__label {background-color: #d4ebff;}#sk-container-id-19 div.sk-label input.sk-toggleable__control:checked~label.sk-toggleable__label {background-color: #d4ebff;}#sk-container-id-19 input.sk-hidden--visually {border: 0;clip: rect(1px 1px 1px 1px);clip: rect(1px, 1px, 1px, 1px);height: 1px;margin: -1px;overflow: hidden;padding: 0;position: absolute;width: 1px;}#sk-container-id-19 div.sk-estimator {font-family: monospace;background-color: #f0f8ff;border: 1px dotted black;border-radius: 0.25em;box-sizing: border-box;margin-bottom: 0.5em;}#sk-container-id-19 div.sk-estimator:hover {background-color: #d4ebff;}#sk-container-id-19 div.sk-parallel-item::after {content: \"\";width: 100%;border-bottom: 1px solid gray;flex-grow: 1;}#sk-container-id-19 div.sk-label:hover label.sk-toggleable__label {background-color: #d4ebff;}#sk-container-id-19 div.sk-serial::before {content: \"\";position: absolute;border-left: 1px solid gray;box-sizing: border-box;top: 0;bottom: 0;left: 50%;z-index: 0;}#sk-container-id-19 div.sk-serial {display: flex;flex-direction: column;align-items: center;background-color: white;padding-right: 0.2em;padding-left: 0.2em;position: relative;}#sk-container-id-19 div.sk-item {position: relative;z-index: 1;}#sk-container-id-19 div.sk-parallel {display: flex;align-items: stretch;justify-content: center;background-color: white;position: relative;}#sk-container-id-19 div.sk-item::before, #sk-container-id-19 div.sk-parallel-item::before {content: \"\";position: absolute;border-left: 1px solid gray;box-sizing: border-box;top: 0;bottom: 0;left: 50%;z-index: -1;}#sk-container-id-19 div.sk-parallel-item {display: flex;flex-direction: column;z-index: 1;position: relative;background-color: white;}#sk-container-id-19 div.sk-parallel-item:first-child::after {align-self: flex-end;width: 50%;}#sk-container-id-19 div.sk-parallel-item:last-child::after {align-self: flex-start;width: 50%;}#sk-container-id-19 div.sk-parallel-item:only-child::after {width: 0;}#sk-container-id-19 div.sk-dashed-wrapped {border: 1px dashed gray;margin: 0 0.4em 0.5em 0.4em;box-sizing: border-box;padding-bottom: 0.4em;background-color: white;}#sk-container-id-19 div.sk-label label {font-family: monospace;font-weight: bold;display: inline-block;line-height: 1.2em;}#sk-container-id-19 div.sk-label-container {text-align: center;}#sk-container-id-19 div.sk-container {/* jupyter's `normalize.less` sets `[hidden] { display: none; }` but bootstrap.min.css set `[hidden] { display: none !important; }` so we also need the `!important` here to be able to override the default hidden behavior on the sphinx rendered scikit-learn.org. See: https://github.com/scikit-learn/scikit-learn/issues/21755 */display: inline-block !important;position: relative;}#sk-container-id-19 div.sk-text-repr-fallback {display: none;}</style><div id=\"sk-container-id-19\" class=\"sk-top-container\"><div class=\"sk-text-repr-fallback\"><pre>LinearRegression()</pre><b>In a Jupyter environment, please rerun this cell to show the HTML representation or trust the notebook. <br />On GitHub, the HTML representation is unable to render, please try loading this page with nbviewer.org.</b></div><div class=\"sk-container\" hidden><div class=\"sk-item\"><div class=\"sk-estimator sk-toggleable\"><input class=\"sk-toggleable__control sk-hidden--visually\" id=\"sk-estimator-id-19\" type=\"checkbox\" checked><label for=\"sk-estimator-id-19\" class=\"sk-toggleable__label sk-toggleable__label-arrow\">LinearRegression</label><div class=\"sk-toggleable__content\"><pre>LinearRegression()</pre></div></div></div></div></div>"
      ],
      "text/plain": [
       "LinearRegression()"
      ]
     },
     "execution_count": 204,
     "metadata": {},
     "output_type": "execute_result"
    }
   ],
   "source": [
    "lr = LinearRegression()\n",
    "lr.fit(train_input,train_target)"
   ]
  },
  {
   "cell_type": "code",
   "execution_count": null,
   "metadata": {},
   "outputs": [
    {
     "name": "stdout",
     "output_type": "stream",
     "text": [
      "0.972323207355885\n",
      "0.9721680064965529\n"
     ]
    }
   ],
   "source": [
    "print(lr.score(train_input,train_target))\n",
    "print(lr.score(test_input,test_target))"
   ]
  },
  {
   "cell_type": "code",
   "execution_count": null,
   "metadata": {},
   "outputs": [],
   "source": []
  },
  {
   "cell_type": "code",
   "execution_count": null,
   "metadata": {},
   "outputs": [],
   "source": [
    "ss = StandardScaler()\n",
    "ss.fit(train_input)\n",
    "train_scaled = ss.transform(train_input)\n",
    "test_scaled = ss.transform(test_input)"
   ]
  },
  {
   "cell_type": "code",
   "execution_count": null,
   "metadata": {},
   "outputs": [
    {
     "data": {
      "text/html": [
       "<style>#sk-container-id-20 {color: black;background-color: white;}#sk-container-id-20 pre{padding: 0;}#sk-container-id-20 div.sk-toggleable {background-color: white;}#sk-container-id-20 label.sk-toggleable__label {cursor: pointer;display: block;width: 100%;margin-bottom: 0;padding: 0.3em;box-sizing: border-box;text-align: center;}#sk-container-id-20 label.sk-toggleable__label-arrow:before {content: \"▸\";float: left;margin-right: 0.25em;color: #696969;}#sk-container-id-20 label.sk-toggleable__label-arrow:hover:before {color: black;}#sk-container-id-20 div.sk-estimator:hover label.sk-toggleable__label-arrow:before {color: black;}#sk-container-id-20 div.sk-toggleable__content {max-height: 0;max-width: 0;overflow: hidden;text-align: left;background-color: #f0f8ff;}#sk-container-id-20 div.sk-toggleable__content pre {margin: 0.2em;color: black;border-radius: 0.25em;background-color: #f0f8ff;}#sk-container-id-20 input.sk-toggleable__control:checked~div.sk-toggleable__content {max-height: 200px;max-width: 100%;overflow: auto;}#sk-container-id-20 input.sk-toggleable__control:checked~label.sk-toggleable__label-arrow:before {content: \"▾\";}#sk-container-id-20 div.sk-estimator input.sk-toggleable__control:checked~label.sk-toggleable__label {background-color: #d4ebff;}#sk-container-id-20 div.sk-label input.sk-toggleable__control:checked~label.sk-toggleable__label {background-color: #d4ebff;}#sk-container-id-20 input.sk-hidden--visually {border: 0;clip: rect(1px 1px 1px 1px);clip: rect(1px, 1px, 1px, 1px);height: 1px;margin: -1px;overflow: hidden;padding: 0;position: absolute;width: 1px;}#sk-container-id-20 div.sk-estimator {font-family: monospace;background-color: #f0f8ff;border: 1px dotted black;border-radius: 0.25em;box-sizing: border-box;margin-bottom: 0.5em;}#sk-container-id-20 div.sk-estimator:hover {background-color: #d4ebff;}#sk-container-id-20 div.sk-parallel-item::after {content: \"\";width: 100%;border-bottom: 1px solid gray;flex-grow: 1;}#sk-container-id-20 div.sk-label:hover label.sk-toggleable__label {background-color: #d4ebff;}#sk-container-id-20 div.sk-serial::before {content: \"\";position: absolute;border-left: 1px solid gray;box-sizing: border-box;top: 0;bottom: 0;left: 50%;z-index: 0;}#sk-container-id-20 div.sk-serial {display: flex;flex-direction: column;align-items: center;background-color: white;padding-right: 0.2em;padding-left: 0.2em;position: relative;}#sk-container-id-20 div.sk-item {position: relative;z-index: 1;}#sk-container-id-20 div.sk-parallel {display: flex;align-items: stretch;justify-content: center;background-color: white;position: relative;}#sk-container-id-20 div.sk-item::before, #sk-container-id-20 div.sk-parallel-item::before {content: \"\";position: absolute;border-left: 1px solid gray;box-sizing: border-box;top: 0;bottom: 0;left: 50%;z-index: -1;}#sk-container-id-20 div.sk-parallel-item {display: flex;flex-direction: column;z-index: 1;position: relative;background-color: white;}#sk-container-id-20 div.sk-parallel-item:first-child::after {align-self: flex-end;width: 50%;}#sk-container-id-20 div.sk-parallel-item:last-child::after {align-self: flex-start;width: 50%;}#sk-container-id-20 div.sk-parallel-item:only-child::after {width: 0;}#sk-container-id-20 div.sk-dashed-wrapped {border: 1px dashed gray;margin: 0 0.4em 0.5em 0.4em;box-sizing: border-box;padding-bottom: 0.4em;background-color: white;}#sk-container-id-20 div.sk-label label {font-family: monospace;font-weight: bold;display: inline-block;line-height: 1.2em;}#sk-container-id-20 div.sk-label-container {text-align: center;}#sk-container-id-20 div.sk-container {/* jupyter's `normalize.less` sets `[hidden] { display: none; }` but bootstrap.min.css set `[hidden] { display: none !important; }` so we also need the `!important` here to be able to override the default hidden behavior on the sphinx rendered scikit-learn.org. See: https://github.com/scikit-learn/scikit-learn/issues/21755 */display: inline-block !important;position: relative;}#sk-container-id-20 div.sk-text-repr-fallback {display: none;}</style><div id=\"sk-container-id-20\" class=\"sk-top-container\"><div class=\"sk-text-repr-fallback\"><pre>Ridge()</pre><b>In a Jupyter environment, please rerun this cell to show the HTML representation or trust the notebook. <br />On GitHub, the HTML representation is unable to render, please try loading this page with nbviewer.org.</b></div><div class=\"sk-container\" hidden><div class=\"sk-item\"><div class=\"sk-estimator sk-toggleable\"><input class=\"sk-toggleable__control sk-hidden--visually\" id=\"sk-estimator-id-20\" type=\"checkbox\" checked><label for=\"sk-estimator-id-20\" class=\"sk-toggleable__label sk-toggleable__label-arrow\">Ridge</label><div class=\"sk-toggleable__content\"><pre>Ridge()</pre></div></div></div></div></div>"
      ],
      "text/plain": [
       "Ridge()"
      ]
     },
     "execution_count": 207,
     "metadata": {},
     "output_type": "execute_result"
    }
   ],
   "source": [
    "ridge = Ridge()\n",
    "ridge.fit(train_scaled,train_target)"
   ]
  },
  {
   "cell_type": "code",
   "execution_count": null,
   "metadata": {},
   "outputs": [
    {
     "name": "stdout",
     "output_type": "stream",
     "text": [
      "0.972323207355885\n",
      "0.9721680064965529\n"
     ]
    }
   ],
   "source": [
    "print(lr.score(train_input,train_target))\n",
    "print(lr.score(test_input,test_target))"
   ]
  },
  {
   "cell_type": "code",
   "execution_count": null,
   "metadata": {},
   "outputs": [],
   "source": []
  },
  {
   "cell_type": "code",
   "execution_count": null,
   "metadata": {},
   "outputs": [
    {
     "data": {
      "text/plain": [
       "array([73.00700285])"
      ]
     },
     "execution_count": 209,
     "metadata": {},
     "output_type": "execute_result"
    }
   ],
   "source": [
    "lr.predict([[8.0]])"
   ]
  },
  {
   "cell_type": "code",
   "execution_count": null,
   "metadata": {},
   "outputs": [
    {
     "name": "stdout",
     "output_type": "stream",
     "text": [
      "[37.62079937] -227.95939214116606\n"
     ]
    }
   ],
   "source": [
    "print(lr.coef_,lr.intercept_)"
   ]
  },
  {
   "cell_type": "code",
   "execution_count": null,
   "metadata": {},
   "outputs": [
    {
     "data": {
      "text/plain": [
       "76.2716583865649"
      ]
     },
     "execution_count": 211,
     "metadata": {},
     "output_type": "execute_result"
    }
   ],
   "source": [
    "39.13740028 * 8 -236.82754385343512"
   ]
  },
  {
   "cell_type": "code",
   "execution_count": null,
   "metadata": {},
   "outputs": [
    {
     "data": {
      "image/png": "[encoded data removed]",
      "text/plain": [
       "<Figure size 1000x500 with 1 Axes>"
      ]
     },
     "metadata": {},
     "output_type": "display_data"
    }
   ],
   "source": [
    "plt.figure(figsize=(10,5))\n",
    "plt.scatter(train_input,train_target)\n",
    "\n",
    "# 15에서 50까지의 1차 방정식\n",
    "plt.plot([3,10],[3*lr.coef_ + lr.intercept_,10*lr.coef_ + lr.intercept_],c='red')\n",
    "\n",
    "# 50cm 생선\n",
    "plt.scatter(8,76.2716583865649,marker='^',c='green',s=120)\n",
    "plt.title('인구수 증가와 해수면 상승 예측값',size=20)\n",
    "plt.xlabel('인구 : 단위(10억명)',size=18)\n",
    "plt.ylabel('해수면 높이 : 단위(mm)',size=18)\n",
    "plt.show()"
   ]
  },
  {
   "cell_type": "code",
   "execution_count": null,
   "metadata": {},
   "outputs": [],
   "source": [
    "# tar = data['sealevel'].values\n",
    "# fea = data['Thickness'].values\n",
    "\n",
    "# train_input, test_input, train_target, test_target = \\\n",
    "#     train_test_split(fea, tar)\n",
    "\n",
    "# # 1열로 구성된 배열로 재구성\n",
    "# train_input = train_input.reshape(-1,1)\n",
    "# test_input = test_input.reshape(-1,1)\n",
    "\n",
    "# lr = LinearRegression()\n",
    "# lr.fit(train_input,train_target)\n",
    "\n",
    "# print(lr.score(train_input,train_target))\n",
    "# print(lr.score(test_input,test_target))\n",
    "\n",
    "# ss = StandardScaler()\n",
    "# ss.fit(train_input)\n",
    "\n",
    "# train_scaled = ss.transform(train_input)\n",
    "# test_scaled = ss.transform(test_input)\n",
    "\n",
    "# ridge = Ridge(alpha=1.6)\n",
    "# ridge.fit(train_scaled,train_target)\n",
    "# print(\"train score :\",ridge.score(train_scaled,train_target))\n",
    "# print(\"test score :\",ridge.score(test_scaled,test_target))\n",
    "\n",
    "# print(lr.predict([[1.8]]))"
   ]
  },
  {
   "cell_type": "code",
   "execution_count": null,
   "metadata": {},
   "outputs": [
    {
     "data": {
      "image/png": "[encoded data removed]",
      "text/plain": [
       "<Figure size 1000x500 with 1 Axes>"
      ]
     },
     "metadata": {},
     "output_type": "display_data"
    }
   ],
   "source": [
    "plt.figure(figsize=(10,5))\n",
    "plt.scatter(train_input,train_target)\n",
    "#plt.plot([3,10],[3*lr.coef_ + lr.intercept_,10*lr.coef_ + lr.intercept_],c='red')\n",
    "#plt.scatter(8,73.1336655211835,marker='^',c='green')\n",
    "plt.title('인구수 증가와 해수면 상승 예측값',size=20)\n",
    "plt.xlabel('인구 : 단위(10억명)',size=18)\n",
    "plt.ylabel('해수면 높이 : 단위(mm)',size=18)\n",
    "plt.show()"
   ]
  },
  {
   "cell_type": "code",
   "execution_count": null,
   "metadata": {},
   "outputs": [
    {
     "name": "stdout",
     "output_type": "stream",
     "text": [
      "0.9691530192247814\n",
      "0.9798976672267083\n",
      "train score : 0.9691312507779988\n",
      "test score : 0.980865051385204\n",
      "[66.21950647]\n",
      "[3.23036163] -6459.110981938031\n"
     ]
    }
   ],
   "source": [
    "tar = data['sealevel'].values\n",
    "fea = data['Year'].values\n",
    "\n",
    "train_input, test_input, train_target, test_target = \\\n",
    "    train_test_split(fea, tar)\n",
    "\n",
    "# 1열로 구성된 배열로 재구성\n",
    "train_input = train_input.reshape(-1,1)\n",
    "test_input = test_input.reshape(-1,1)\n",
    "\n",
    "lr = LinearRegression()\n",
    "lr.fit(train_input,train_target)\n",
    "\n",
    "print(lr.score(train_input,train_target))\n",
    "print(lr.score(test_input,test_target))\n",
    "\n",
    "ss = StandardScaler()\n",
    "ss.fit(train_input)\n",
    "\n",
    "train_scaled = ss.transform(train_input)\n",
    "test_scaled = ss.transform(test_input)\n",
    "\n",
    "ridge = Ridge(alpha=0.1)\n",
    "ridge.fit(train_scaled,train_target)\n",
    "print(\"train score :\",ridge.score(train_scaled,train_target))\n",
    "print(\"test score :\",ridge.score(test_scaled,test_target))\n",
    "\n",
    "print(lr.predict([[2020]]))\n",
    "print(lr.coef_, lr.intercept_)"
   ]
  },
  {
   "cell_type": "code",
   "execution_count": null,
   "metadata": {},
   "outputs": [
    {
     "data": {
      "text/plain": [
       "65.00769455079171"
      ]
     },
     "execution_count": 216,
     "metadata": {},
     "output_type": "execute_result"
    }
   ],
   "source": [
    "3.15509402 * 2020 -6308.282225849208"
   ]
  },
  {
   "cell_type": "code",
   "execution_count": null,
   "metadata": {},
   "outputs": [
    {
     "data": {
      "image/png": "[encoded data removed]",
      "text/plain": [
       "<Figure size 1000x500 with 1 Axes>"
      ]
     },
     "metadata": {},
     "output_type": "display_data"
    }
   ],
   "source": [
    "plt.figure(figsize=(10,5))\n",
    "plt.scatter(train_input,train_target)\n",
    "\n",
    "plt.plot([1980,2025],[1980*lr.coef_ + lr.intercept_,2025*lr.coef_ + lr.intercept_],c='red')\n",
    "\n",
    "plt.scatter(2020,65.82804741,marker='^',c='green',s=120)\n",
    "plt.title('년도에따른 해수면 상승 예측값',size=20)\n",
    "plt.xlabel('년도 ',size=18)\n",
    "plt.ylabel('해수면 높이 : 단위(mm)',size=18)\n",
    "plt.show()"
   ]
  },
  {
   "cell_type": "code",
   "execution_count": null,
   "metadata": {},
   "outputs": [
    {
     "data": {
      "text/plain": [
       "0     22849.92\n",
       "1     23056.40\n",
       "2     22988.29\n",
       "3     23124.00\n",
       "4     23260.29\n",
       "5     24214.92\n",
       "6     25292.92\n",
       "7     24895.32\n",
       "8     24957.30\n",
       "9     25637.87\n",
       "10    25726.42\n",
       "11    26486.63\n",
       "12    27308.37\n",
       "13    28826.48\n",
       "14    29663.75\n",
       "15    30905.93\n",
       "16    31608.28\n",
       "17    31856.76\n",
       "18    31769.89\n",
       "19    33328.38\n",
       "20    33226.01\n",
       "21    33620.34\n",
       "22    34217.18\n",
       "23    34558.59\n",
       "24    34521.91\n",
       "25    35160.60\n",
       "26    35588.70\n",
       "27    36441.55\n",
       "Name: co2, dtype: float64"
      ]
     },
     "execution_count": 218,
     "metadata": {},
     "output_type": "execute_result"
    }
   ],
   "source": [
    "data['co2']"
   ]
  },
  {
   "cell_type": "code",
   "execution_count": null,
   "metadata": {},
   "outputs": [
    {
     "name": "stdout",
     "output_type": "stream",
     "text": [
      "0.9350992980314504\n",
      "0.9333364552873595\n",
      "train score : 0.9343777707953149\n",
      "test score : 0.9109569614063526\n",
      "[66.17452023]\n"
     ]
    }
   ],
   "source": [
    "\n",
    "tar = data['sealevel'].values\n",
    "fea = data['co2'].values\n",
    "\n",
    "train_input, test_input, train_target, test_target = \\\n",
    "    train_test_split(fea, tar)\n",
    "\n",
    "# 1열로 구성된 배열로 재구성\n",
    "train_input = train_input.reshape(-1,1)\n",
    "test_input = test_input.reshape(-1,1)\n",
    "\n",
    "lr = LinearRegression()\n",
    "lr.fit(train_input,train_target)\n",
    "\n",
    "print(lr.score(train_input,train_target))\n",
    "print(lr.score(test_input,test_target))\n",
    "\n",
    "ss = StandardScaler()\n",
    "ss.fit(train_input)\n",
    "\n",
    "train_scaled = ss.transform(train_input)\n",
    "test_scaled = ss.transform(test_input)\n",
    "\n",
    "ridge = Ridge(alpha=0.6)\n",
    "ridge.fit(train_scaled,train_target)\n",
    "print(\"train score :\",ridge.score(train_scaled,train_target))\n",
    "print(\"test score :\",ridge.score(test_scaled,test_target))\n",
    "\n",
    "print(lr.predict([[38441.55]]))"
   ]
  },
  {
   "cell_type": "code",
   "execution_count": null,
   "metadata": {},
   "outputs": [
    {
     "data": {
      "image/png": "[encoded data removed]",
      "text/plain": [
       "<Figure size 1000x500 with 1 Axes>"
      ]
     },
     "metadata": {},
     "output_type": "display_data"
    }
   ],
   "source": [
    "plt.figure(figsize=(10,5))\n",
    "plt.scatter(train_input,train_target)\n",
    "\n",
    "plt.plot([20000,40000],[20000*lr.coef_ + lr.intercept_,40000*lr.coef_ + lr.intercept_],c='red')\n",
    "\n",
    "plt.scatter(38441.55,69.19258518,marker='^',c='green',s=120)\n",
    "plt.title('년도에따른 해수면 상승 예측값',size=20)\n",
    "plt.xlabel('년도 ',size=18)\n",
    "plt.ylabel('해수면 높이 : 단위(mm)',size=18)\n",
    "plt.show()"
   ]
  },
  {
   "cell_type": "code",
   "execution_count": null,
   "metadata": {},
   "outputs": [],
   "source": []
  },
  {
   "cell_type": "code",
   "execution_count": null,
   "metadata": {},
   "outputs": [],
   "source": [
    "def sunhung(x,y,z):\n",
    "    tar = data['sealevel'].values\n",
    "    fea = data[f'{x}'].values\n",
    "\n",
    "    train_input, test_input, train_target, test_target = \\\n",
    "        train_test_split(fea, tar)\n",
    "\n",
    "    # 1열로 구성된 배열로 재구성\n",
    "    train_input = train_input.reshape(-1,1)\n",
    "    test_input = test_input.reshape(-1,1)\n",
    "\n",
    "    lr = LinearRegression()\n",
    "    lr.fit(train_input,train_target)\n",
    "\n",
    "    print(lr.score(train_input,train_target))\n",
    "    print(lr.score(test_input,test_target))\n",
    "\n",
    "    ss = StandardScaler()\n",
    "    ss.fit(train_input)\n",
    "\n",
    "    train_scaled = ss.transform(train_input)\n",
    "    test_scaled = ss.transform(test_input)\n",
    "\n",
    "    ridge = Ridge(alpha=z)\n",
    "    ridge.fit(train_scaled,train_target)\n",
    "    print(\"train score :\",ridge.score(train_scaled,train_target))\n",
    "    print(\"test score :\",ridge.score(test_scaled,test_target))\n",
    "\n",
    "    print(lr.predict([[y]]))\n",
    "    return lr.predict([[y]])"
   ]
  },
  {
   "cell_type": "code",
   "execution_count": null,
   "metadata": {},
   "outputs": [],
   "source": [
    "data = data.rename(columns={'평균 바다 표면 온도' : '지구 평균 온도'})"
   ]
  },
  {
   "cell_type": "code",
   "execution_count": null,
   "metadata": {},
   "outputs": [
    {
     "name": "stdout",
     "output_type": "stream",
     "text": [
      "0.6768152380898584\n",
      "0.7647322297148795\n",
      "train score : 0.6345142857092418\n",
      "test score : 0.6786364157026981\n",
      "[38.40390713]\n"
     ]
    },
    {
     "data": {
      "text/plain": [
       "array([38.40390713])"
      ]
     },
     "execution_count": 223,
     "metadata": {},
     "output_type": "execute_result"
    }
   ],
   "source": [
    "sunhung('북극 해빙면적 평균',8.75,7)"
   ]
  },
  {
   "cell_type": "code",
   "execution_count": null,
   "metadata": {},
   "outputs": [
    {
     "name": "stdout",
     "output_type": "stream",
     "text": [
      "0.7360253585111323\n",
      "0.5504844717316555\n",
      "train score : 0.6900237736041865\n",
      "test score : 0.4869651594440694\n",
      "[40.05701217]\n"
     ]
    },
    {
     "data": {
      "text/plain": [
       "array([40.05701217])"
      ]
     },
     "execution_count": 224,
     "metadata": {},
     "output_type": "execute_result"
    }
   ],
   "source": [
    "sunhung('북극 해빙면적 평균',8.75,7)"
   ]
  },
  {
   "cell_type": "code",
   "execution_count": null,
   "metadata": {},
   "outputs": [
    {
     "data": {
      "text/plain": [
       "{'fit_time': array([0.00037003, 0.00025392, 0.0001862 , 0.00018001, 0.00016403]),\n",
       " 'score_time': array([2.70843506e-04, 1.07049942e-04, 9.39369202e-05, 8.79764557e-05,\n",
       "        8.70227814e-05]),\n",
       " 'test_score': array([0.93431661, 0.89192757, 0.8073668 , 0.92423112, 0.96829442])}"
      ]
     },
     "execution_count": 225,
     "metadata": {},
     "output_type": "execute_result"
    }
   ],
   "source": [
    "from sklearn.model_selection import cross_validate\n",
    "\n",
    "scores = cross_validate(lr,train_input,train_target)\n",
    "scores"
   ]
  },
  {
   "cell_type": "code",
   "execution_count": null,
   "metadata": {},
   "outputs": [
    {
     "data": {
      "text/plain": [
       "0.9052273050693997"
      ]
     },
     "execution_count": 226,
     "metadata": {},
     "output_type": "execute_result"
    }
   ],
   "source": [
    "np.mean(scores['test_score'])"
   ]
  },
  {
   "cell_type": "code",
   "execution_count": null,
   "metadata": {},
   "outputs": [
    {
     "data": {
      "text/html": [
       "<div>\n",
       "<style scoped>\n",
       "    .dataframe tbody tr th:only-of-type {\n",
       "        vertical-align: middle;\n",
       "    }\n",
       "\n",
       "    .dataframe tbody tr th {\n",
       "        vertical-align: top;\n",
       "    }\n",
       "\n",
       "    .dataframe thead th {\n",
       "        text-align: right;\n",
       "    }\n",
       "</style>\n",
       "<table border=\"1\" class=\"dataframe\">\n",
       "  <thead>\n",
       "    <tr style=\"text-align: right;\">\n",
       "      <th></th>\n",
       "      <th>Year</th>\n",
       "      <th>sealevel</th>\n",
       "      <th>co2</th>\n",
       "      <th>Population</th>\n",
       "      <th>Thickness</th>\n",
       "      <th>북극 해빙면적 평균</th>\n",
       "      <th>해상 평균 온도</th>\n",
       "      <th>지구 평균 온도</th>\n",
       "      <th>평균 해상 강수량</th>\n",
       "    </tr>\n",
       "  </thead>\n",
       "  <tbody>\n",
       "    <tr>\n",
       "      <th>0</th>\n",
       "      <td>1990</td>\n",
       "      <td>-22.847396</td>\n",
       "      <td>22849.92</td>\n",
       "      <td>5.28</td>\n",
       "      <td>2.035898</td>\n",
       "      <td>9.668333</td>\n",
       "      <td>16.578333</td>\n",
       "      <td>18.078333</td>\n",
       "      <td>93.641667</td>\n",
       "    </tr>\n",
       "    <tr>\n",
       "      <th>1</th>\n",
       "      <td>1991</td>\n",
       "      <td>-22.814062</td>\n",
       "      <td>23056.40</td>\n",
       "      <td>5.37</td>\n",
       "      <td>2.025763</td>\n",
       "      <td>9.742500</td>\n",
       "      <td>16.541667</td>\n",
       "      <td>18.073333</td>\n",
       "      <td>93.216667</td>\n",
       "    </tr>\n",
       "    <tr>\n",
       "      <th>2</th>\n",
       "      <td>1992</td>\n",
       "      <td>-20.247396</td>\n",
       "      <td>22988.29</td>\n",
       "      <td>5.45</td>\n",
       "      <td>2.024229</td>\n",
       "      <td>10.099167</td>\n",
       "      <td>16.380000</td>\n",
       "      <td>18.010000</td>\n",
       "      <td>93.225000</td>\n",
       "    </tr>\n",
       "    <tr>\n",
       "      <th>3</th>\n",
       "      <td>1993</td>\n",
       "      <td>-22.780729</td>\n",
       "      <td>23124.00</td>\n",
       "      <td>5.54</td>\n",
       "      <td>1.934320</td>\n",
       "      <td>9.810000</td>\n",
       "      <td>16.402500</td>\n",
       "      <td>18.022500</td>\n",
       "      <td>92.508333</td>\n",
       "    </tr>\n",
       "    <tr>\n",
       "      <th>4</th>\n",
       "      <td>1994</td>\n",
       "      <td>-17.980729</td>\n",
       "      <td>23260.29</td>\n",
       "      <td>5.62</td>\n",
       "      <td>1.974827</td>\n",
       "      <td>9.989167</td>\n",
       "      <td>16.380000</td>\n",
       "      <td>18.030000</td>\n",
       "      <td>92.841667</td>\n",
       "    </tr>\n",
       "    <tr>\n",
       "      <th>5</th>\n",
       "      <td>1996</td>\n",
       "      <td>-11.947396</td>\n",
       "      <td>24214.92</td>\n",
       "      <td>5.79</td>\n",
       "      <td>1.896918</td>\n",
       "      <td>9.799167</td>\n",
       "      <td>16.461667</td>\n",
       "      <td>18.033333</td>\n",
       "      <td>93.675000</td>\n",
       "    </tr>\n",
       "    <tr>\n",
       "      <th>6</th>\n",
       "      <td>1997</td>\n",
       "      <td>-2.647396</td>\n",
       "      <td>25292.92</td>\n",
       "      <td>5.87</td>\n",
       "      <td>1.935293</td>\n",
       "      <td>9.616667</td>\n",
       "      <td>16.588333</td>\n",
       "      <td>18.178333</td>\n",
       "      <td>96.033333</td>\n",
       "    </tr>\n",
       "    <tr>\n",
       "      <th>7</th>\n",
       "      <td>1998</td>\n",
       "      <td>-10.814063</td>\n",
       "      <td>24895.32</td>\n",
       "      <td>5.95</td>\n",
       "      <td>1.830868</td>\n",
       "      <td>9.626667</td>\n",
       "      <td>16.685833</td>\n",
       "      <td>18.230833</td>\n",
       "      <td>96.666667</td>\n",
       "    </tr>\n",
       "    <tr>\n",
       "      <th>8</th>\n",
       "      <td>1999</td>\n",
       "      <td>-0.247396</td>\n",
       "      <td>24957.30</td>\n",
       "      <td>6.03</td>\n",
       "      <td>1.770938</td>\n",
       "      <td>9.693333</td>\n",
       "      <td>16.413333</td>\n",
       "      <td>18.031667</td>\n",
       "      <td>93.850000</td>\n",
       "    </tr>\n",
       "    <tr>\n",
       "      <th>9</th>\n",
       "      <td>2000</td>\n",
       "      <td>2.952604</td>\n",
       "      <td>25637.87</td>\n",
       "      <td>6.11</td>\n",
       "      <td>1.750909</td>\n",
       "      <td>9.457500</td>\n",
       "      <td>16.460833</td>\n",
       "      <td>18.065833</td>\n",
       "      <td>96.416667</td>\n",
       "    </tr>\n",
       "    <tr>\n",
       "      <th>10</th>\n",
       "      <td>2001</td>\n",
       "      <td>4.719271</td>\n",
       "      <td>25726.42</td>\n",
       "      <td>6.19</td>\n",
       "      <td>1.795824</td>\n",
       "      <td>9.569167</td>\n",
       "      <td>16.582500</td>\n",
       "      <td>18.199167</td>\n",
       "      <td>97.475000</td>\n",
       "    </tr>\n",
       "    <tr>\n",
       "      <th>11</th>\n",
       "      <td>2002</td>\n",
       "      <td>2.152604</td>\n",
       "      <td>26486.63</td>\n",
       "      <td>6.27</td>\n",
       "      <td>1.752091</td>\n",
       "      <td>9.356667</td>\n",
       "      <td>16.645000</td>\n",
       "      <td>18.231667</td>\n",
       "      <td>98.933333</td>\n",
       "    </tr>\n",
       "    <tr>\n",
       "      <th>12</th>\n",
       "      <td>2003</td>\n",
       "      <td>14.619271</td>\n",
       "      <td>27308.37</td>\n",
       "      <td>6.35</td>\n",
       "      <td>1.714332</td>\n",
       "      <td>9.289167</td>\n",
       "      <td>16.645000</td>\n",
       "      <td>18.286667</td>\n",
       "      <td>98.841667</td>\n",
       "    </tr>\n",
       "    <tr>\n",
       "      <th>13</th>\n",
       "      <td>2004</td>\n",
       "      <td>13.652604</td>\n",
       "      <td>28826.48</td>\n",
       "      <td>6.43</td>\n",
       "      <td>1.688927</td>\n",
       "      <td>9.367500</td>\n",
       "      <td>16.633333</td>\n",
       "      <td>18.244167</td>\n",
       "      <td>98.766667</td>\n",
       "    </tr>\n",
       "    <tr>\n",
       "      <th>14</th>\n",
       "      <td>2005</td>\n",
       "      <td>12.119271</td>\n",
       "      <td>29663.75</td>\n",
       "      <td>6.51</td>\n",
       "      <td>1.672172</td>\n",
       "      <td>9.020833</td>\n",
       "      <td>16.691667</td>\n",
       "      <td>18.322500</td>\n",
       "      <td>98.300000</td>\n",
       "    </tr>\n",
       "    <tr>\n",
       "      <th>15</th>\n",
       "      <td>2006</td>\n",
       "      <td>9.519271</td>\n",
       "      <td>30905.93</td>\n",
       "      <td>6.59</td>\n",
       "      <td>1.620570</td>\n",
       "      <td>8.802500</td>\n",
       "      <td>16.681667</td>\n",
       "      <td>18.290000</td>\n",
       "      <td>98.000000</td>\n",
       "    </tr>\n",
       "    <tr>\n",
       "      <th>16</th>\n",
       "      <td>2007</td>\n",
       "      <td>22.785937</td>\n",
       "      <td>31608.28</td>\n",
       "      <td>6.67</td>\n",
       "      <td>1.550804</td>\n",
       "      <td>8.460000</td>\n",
       "      <td>16.594167</td>\n",
       "      <td>18.245000</td>\n",
       "      <td>98.566667</td>\n",
       "    </tr>\n",
       "    <tr>\n",
       "      <th>17</th>\n",
       "      <td>2008</td>\n",
       "      <td>30.452604</td>\n",
       "      <td>31856.76</td>\n",
       "      <td>6.76</td>\n",
       "      <td>1.543778</td>\n",
       "      <td>9.235000</td>\n",
       "      <td>16.538333</td>\n",
       "      <td>18.224167</td>\n",
       "      <td>97.383333</td>\n",
       "    </tr>\n",
       "    <tr>\n",
       "      <th>18</th>\n",
       "      <td>2009</td>\n",
       "      <td>33.652604</td>\n",
       "      <td>31769.89</td>\n",
       "      <td>6.84</td>\n",
       "      <td>1.521169</td>\n",
       "      <td>9.236667</td>\n",
       "      <td>16.686667</td>\n",
       "      <td>18.329167</td>\n",
       "      <td>98.633333</td>\n",
       "    </tr>\n",
       "    <tr>\n",
       "      <th>19</th>\n",
       "      <td>2010</td>\n",
       "      <td>33.878240</td>\n",
       "      <td>33328.38</td>\n",
       "      <td>6.92</td>\n",
       "      <td>1.378012</td>\n",
       "      <td>8.980000</td>\n",
       "      <td>16.718333</td>\n",
       "      <td>18.337500</td>\n",
       "      <td>98.258333</td>\n",
       "    </tr>\n",
       "    <tr>\n",
       "      <th>20</th>\n",
       "      <td>2011</td>\n",
       "      <td>36.718471</td>\n",
       "      <td>33226.01</td>\n",
       "      <td>7.00</td>\n",
       "      <td>1.336479</td>\n",
       "      <td>8.775833</td>\n",
       "      <td>16.620000</td>\n",
       "      <td>18.225833</td>\n",
       "      <td>97.583333</td>\n",
       "    </tr>\n",
       "    <tr>\n",
       "      <th>21</th>\n",
       "      <td>2012</td>\n",
       "      <td>47.173903</td>\n",
       "      <td>33620.34</td>\n",
       "      <td>7.09</td>\n",
       "      <td>1.335562</td>\n",
       "      <td>8.661667</td>\n",
       "      <td>16.681667</td>\n",
       "      <td>18.284167</td>\n",
       "      <td>97.991667</td>\n",
       "    </tr>\n",
       "    <tr>\n",
       "      <th>22</th>\n",
       "      <td>2013</td>\n",
       "      <td>41.337987</td>\n",
       "      <td>34217.18</td>\n",
       "      <td>7.18</td>\n",
       "      <td>1.364877</td>\n",
       "      <td>9.238333</td>\n",
       "      <td>16.678333</td>\n",
       "      <td>18.312500</td>\n",
       "      <td>97.741667</td>\n",
       "    </tr>\n",
       "    <tr>\n",
       "      <th>23</th>\n",
       "      <td>2014</td>\n",
       "      <td>53.857372</td>\n",
       "      <td>34558.59</td>\n",
       "      <td>7.26</td>\n",
       "      <td>1.503155</td>\n",
       "      <td>9.105000</td>\n",
       "      <td>16.749167</td>\n",
       "      <td>18.420833</td>\n",
       "      <td>98.700000</td>\n",
       "    </tr>\n",
       "    <tr>\n",
       "      <th>24</th>\n",
       "      <td>2015</td>\n",
       "      <td>50.461706</td>\n",
       "      <td>34521.91</td>\n",
       "      <td>7.35</td>\n",
       "      <td>1.510779</td>\n",
       "      <td>8.920833</td>\n",
       "      <td>16.845833</td>\n",
       "      <td>18.526667</td>\n",
       "      <td>100.175000</td>\n",
       "    </tr>\n",
       "    <tr>\n",
       "      <th>25</th>\n",
       "      <td>2016</td>\n",
       "      <td>54.346964</td>\n",
       "      <td>35160.60</td>\n",
       "      <td>7.43</td>\n",
       "      <td>1.383348</td>\n",
       "      <td>8.325000</td>\n",
       "      <td>16.997500</td>\n",
       "      <td>18.558333</td>\n",
       "      <td>99.825000</td>\n",
       "    </tr>\n",
       "    <tr>\n",
       "      <th>26</th>\n",
       "      <td>2017</td>\n",
       "      <td>57.355991</td>\n",
       "      <td>35588.70</td>\n",
       "      <td>7.52</td>\n",
       "      <td>1.293283</td>\n",
       "      <td>8.706667</td>\n",
       "      <td>16.932500</td>\n",
       "      <td>18.505833</td>\n",
       "      <td>98.466667</td>\n",
       "    </tr>\n",
       "    <tr>\n",
       "      <th>27</th>\n",
       "      <td>2018</td>\n",
       "      <td>53.085122</td>\n",
       "      <td>36441.55</td>\n",
       "      <td>7.60</td>\n",
       "      <td>1.380304</td>\n",
       "      <td>8.755000</td>\n",
       "      <td>16.884167</td>\n",
       "      <td>18.455833</td>\n",
       "      <td>98.741667</td>\n",
       "    </tr>\n",
       "  </tbody>\n",
       "</table>\n",
       "</div>"
      ],
      "text/plain": [
       "    Year   sealevel       co2   Population  Thickness  북극 해빙면적 평균   해상 평균 온도  \\\n",
       "0   1990 -22.847396  22849.92         5.28   2.035898    9.668333  16.578333   \n",
       "1   1991 -22.814062  23056.40         5.37   2.025763    9.742500  16.541667   \n",
       "2   1992 -20.247396  22988.29         5.45   2.024229   10.099167  16.380000   \n",
       "3   1993 -22.780729  23124.00         5.54   1.934320    9.810000  16.402500   \n",
       "4   1994 -17.980729  23260.29         5.62   1.974827    9.989167  16.380000   \n",
       "5   1996 -11.947396  24214.92         5.79   1.896918    9.799167  16.461667   \n",
       "6   1997  -2.647396  25292.92         5.87   1.935293    9.616667  16.588333   \n",
       "7   1998 -10.814063  24895.32         5.95   1.830868    9.626667  16.685833   \n",
       "8   1999  -0.247396  24957.30         6.03   1.770938    9.693333  16.413333   \n",
       "9   2000   2.952604  25637.87         6.11   1.750909    9.457500  16.460833   \n",
       "10  2001   4.719271  25726.42         6.19   1.795824    9.569167  16.582500   \n",
       "11  2002   2.152604  26486.63         6.27   1.752091    9.356667  16.645000   \n",
       "12  2003  14.619271  27308.37         6.35   1.714332    9.289167  16.645000   \n",
       "13  2004  13.652604  28826.48         6.43   1.688927    9.367500  16.633333   \n",
       "14  2005  12.119271  29663.75         6.51   1.672172    9.020833  16.691667   \n",
       "15  2006   9.519271  30905.93         6.59   1.620570    8.802500  16.681667   \n",
       "16  2007  22.785937  31608.28         6.67   1.550804    8.460000  16.594167   \n",
       "17  2008  30.452604  31856.76         6.76   1.543778    9.235000  16.538333   \n",
       "18  2009  33.652604  31769.89         6.84   1.521169    9.236667  16.686667   \n",
       "19  2010  33.878240  33328.38         6.92   1.378012    8.980000  16.718333   \n",
       "20  2011  36.718471  33226.01         7.00   1.336479    8.775833  16.620000   \n",
       "21  2012  47.173903  33620.34         7.09   1.335562    8.661667  16.681667   \n",
       "22  2013  41.337987  34217.18         7.18   1.364877    9.238333  16.678333   \n",
       "23  2014  53.857372  34558.59         7.26   1.503155    9.105000  16.749167   \n",
       "24  2015  50.461706  34521.91         7.35   1.510779    8.920833  16.845833   \n",
       "25  2016  54.346964  35160.60         7.43   1.383348    8.325000  16.997500   \n",
       "26  2017  57.355991  35588.70         7.52   1.293283    8.706667  16.932500   \n",
       "27  2018  53.085122  36441.55         7.60   1.380304    8.755000  16.884167   \n",
       "\n",
       "     지구 평균 온도   평균 해상 강수량  \n",
       "0   18.078333   93.641667  \n",
       "1   18.073333   93.216667  \n",
       "2   18.010000   93.225000  \n",
       "3   18.022500   92.508333  \n",
       "4   18.030000   92.841667  \n",
       "5   18.033333   93.675000  \n",
       "6   18.178333   96.033333  \n",
       "7   18.230833   96.666667  \n",
       "8   18.031667   93.850000  \n",
       "9   18.065833   96.416667  \n",
       "10  18.199167   97.475000  \n",
       "11  18.231667   98.933333  \n",
       "12  18.286667   98.841667  \n",
       "13  18.244167   98.766667  \n",
       "14  18.322500   98.300000  \n",
       "15  18.290000   98.000000  \n",
       "16  18.245000   98.566667  \n",
       "17  18.224167   97.383333  \n",
       "18  18.329167   98.633333  \n",
       "19  18.337500   98.258333  \n",
       "20  18.225833   97.583333  \n",
       "21  18.284167   97.991667  \n",
       "22  18.312500   97.741667  \n",
       "23  18.420833   98.700000  \n",
       "24  18.526667  100.175000  \n",
       "25  18.558333   99.825000  \n",
       "26  18.505833   98.466667  \n",
       "27  18.455833   98.741667  "
      ]
     },
     "execution_count": 227,
     "metadata": {},
     "output_type": "execute_result"
    }
   ],
   "source": [
    "data"
   ]
  },
  {
   "cell_type": "code",
   "execution_count": null,
   "metadata": {},
   "outputs": [],
   "source": []
  }
 ],
 "metadata": {
  "kernelspec": {
   "display_name": "base",
   "language": "python",
   "name": "python3"
  },
  "language_info": {
   "codemirror_mode": {
    "name": "ipython",
    "version": 3
   },
   "file_extension": ".py",
   "mimetype": "text/x-python",
   "name": "python",
   "nbconvert_exporter": "python",
   "pygments_lexer": "ipython3",
   "version": "3.11.7"
  }
 },
 "nbformat": 4,
 "nbformat_minor": 2
}
